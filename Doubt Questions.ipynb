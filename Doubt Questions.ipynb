{
 "cells": [
  {
   "cell_type": "code",
   "execution_count": 1,
   "id": "ed12adf9",
   "metadata": {},
   "outputs": [],
   "source": [
    "import numpy as np\n",
    "import pandas as pd\n"
   ]
  },
  {
   "cell_type": "code",
   "execution_count": 2,
   "id": "adfdc1df",
   "metadata": {},
   "outputs": [],
   "source": [
    "df = pd.read_csv(r'C:\\Users\\Satyam\\Downloads\\IPL Matches 2008-2020.csv')"
   ]
  },
  {
   "cell_type": "code",
   "execution_count": 3,
   "id": "333aa888",
   "metadata": {},
   "outputs": [
    {
     "data": {
      "text/html": [
       "<div>\n",
       "<style scoped>\n",
       "    .dataframe tbody tr th:only-of-type {\n",
       "        vertical-align: middle;\n",
       "    }\n",
       "\n",
       "    .dataframe tbody tr th {\n",
       "        vertical-align: top;\n",
       "    }\n",
       "\n",
       "    .dataframe thead th {\n",
       "        text-align: right;\n",
       "    }\n",
       "</style>\n",
       "<table border=\"1\" class=\"dataframe\">\n",
       "  <thead>\n",
       "    <tr style=\"text-align: right;\">\n",
       "      <th></th>\n",
       "      <th>id</th>\n",
       "      <th>city</th>\n",
       "      <th>date</th>\n",
       "      <th>player_of_match</th>\n",
       "      <th>venue</th>\n",
       "      <th>neutral_venue</th>\n",
       "      <th>team1</th>\n",
       "      <th>team2</th>\n",
       "      <th>toss_winner</th>\n",
       "      <th>toss_decision</th>\n",
       "      <th>winner</th>\n",
       "      <th>result</th>\n",
       "      <th>result_margin</th>\n",
       "      <th>eliminator</th>\n",
       "      <th>method</th>\n",
       "      <th>umpire1</th>\n",
       "      <th>umpire2</th>\n",
       "    </tr>\n",
       "  </thead>\n",
       "  <tbody>\n",
       "    <tr>\n",
       "      <th>0</th>\n",
       "      <td>335982</td>\n",
       "      <td>Bangalore</td>\n",
       "      <td>2008-04-18</td>\n",
       "      <td>BB McCullum</td>\n",
       "      <td>M Chinnaswamy Stadium</td>\n",
       "      <td>0</td>\n",
       "      <td>Royal Challengers Bangalore</td>\n",
       "      <td>Kolkata Knight Riders</td>\n",
       "      <td>Royal Challengers Bangalore</td>\n",
       "      <td>field</td>\n",
       "      <td>Kolkata Knight Riders</td>\n",
       "      <td>runs</td>\n",
       "      <td>140.0</td>\n",
       "      <td>N</td>\n",
       "      <td>NaN</td>\n",
       "      <td>Asad Rauf</td>\n",
       "      <td>RE Koertzen</td>\n",
       "    </tr>\n",
       "    <tr>\n",
       "      <th>1</th>\n",
       "      <td>335983</td>\n",
       "      <td>Chandigarh</td>\n",
       "      <td>2008-04-19</td>\n",
       "      <td>MEK Hussey</td>\n",
       "      <td>Punjab Cricket Association Stadium, Mohali</td>\n",
       "      <td>0</td>\n",
       "      <td>Kings XI Punjab</td>\n",
       "      <td>Chennai Super Kings</td>\n",
       "      <td>Chennai Super Kings</td>\n",
       "      <td>bat</td>\n",
       "      <td>Chennai Super Kings</td>\n",
       "      <td>runs</td>\n",
       "      <td>33.0</td>\n",
       "      <td>N</td>\n",
       "      <td>NaN</td>\n",
       "      <td>MR Benson</td>\n",
       "      <td>SL Shastri</td>\n",
       "    </tr>\n",
       "    <tr>\n",
       "      <th>2</th>\n",
       "      <td>335984</td>\n",
       "      <td>Delhi</td>\n",
       "      <td>2008-04-19</td>\n",
       "      <td>MF Maharoof</td>\n",
       "      <td>Feroz Shah Kotla</td>\n",
       "      <td>0</td>\n",
       "      <td>Delhi Daredevils</td>\n",
       "      <td>Rajasthan Royals</td>\n",
       "      <td>Rajasthan Royals</td>\n",
       "      <td>bat</td>\n",
       "      <td>Delhi Daredevils</td>\n",
       "      <td>wickets</td>\n",
       "      <td>9.0</td>\n",
       "      <td>N</td>\n",
       "      <td>NaN</td>\n",
       "      <td>Aleem Dar</td>\n",
       "      <td>GA Pratapkumar</td>\n",
       "    </tr>\n",
       "    <tr>\n",
       "      <th>3</th>\n",
       "      <td>335985</td>\n",
       "      <td>Mumbai</td>\n",
       "      <td>2008-04-20</td>\n",
       "      <td>MV Boucher</td>\n",
       "      <td>Wankhede Stadium</td>\n",
       "      <td>0</td>\n",
       "      <td>Mumbai Indians</td>\n",
       "      <td>Royal Challengers Bangalore</td>\n",
       "      <td>Mumbai Indians</td>\n",
       "      <td>bat</td>\n",
       "      <td>Royal Challengers Bangalore</td>\n",
       "      <td>wickets</td>\n",
       "      <td>5.0</td>\n",
       "      <td>N</td>\n",
       "      <td>NaN</td>\n",
       "      <td>SJ Davis</td>\n",
       "      <td>DJ Harper</td>\n",
       "    </tr>\n",
       "    <tr>\n",
       "      <th>4</th>\n",
       "      <td>335986</td>\n",
       "      <td>Kolkata</td>\n",
       "      <td>2008-04-20</td>\n",
       "      <td>DJ Hussey</td>\n",
       "      <td>Eden Gardens</td>\n",
       "      <td>0</td>\n",
       "      <td>Kolkata Knight Riders</td>\n",
       "      <td>Deccan Chargers</td>\n",
       "      <td>Deccan Chargers</td>\n",
       "      <td>bat</td>\n",
       "      <td>Kolkata Knight Riders</td>\n",
       "      <td>wickets</td>\n",
       "      <td>5.0</td>\n",
       "      <td>N</td>\n",
       "      <td>NaN</td>\n",
       "      <td>BF Bowden</td>\n",
       "      <td>K Hariharan</td>\n",
       "    </tr>\n",
       "  </tbody>\n",
       "</table>\n",
       "</div>"
      ],
      "text/plain": [
       "       id        city        date player_of_match  \\\n",
       "0  335982   Bangalore  2008-04-18     BB McCullum   \n",
       "1  335983  Chandigarh  2008-04-19      MEK Hussey   \n",
       "2  335984       Delhi  2008-04-19     MF Maharoof   \n",
       "3  335985      Mumbai  2008-04-20      MV Boucher   \n",
       "4  335986     Kolkata  2008-04-20       DJ Hussey   \n",
       "\n",
       "                                        venue  neutral_venue  \\\n",
       "0                       M Chinnaswamy Stadium              0   \n",
       "1  Punjab Cricket Association Stadium, Mohali              0   \n",
       "2                            Feroz Shah Kotla              0   \n",
       "3                            Wankhede Stadium              0   \n",
       "4                                Eden Gardens              0   \n",
       "\n",
       "                         team1                        team2  \\\n",
       "0  Royal Challengers Bangalore        Kolkata Knight Riders   \n",
       "1              Kings XI Punjab          Chennai Super Kings   \n",
       "2             Delhi Daredevils             Rajasthan Royals   \n",
       "3               Mumbai Indians  Royal Challengers Bangalore   \n",
       "4        Kolkata Knight Riders              Deccan Chargers   \n",
       "\n",
       "                   toss_winner toss_decision                       winner  \\\n",
       "0  Royal Challengers Bangalore         field        Kolkata Knight Riders   \n",
       "1          Chennai Super Kings           bat          Chennai Super Kings   \n",
       "2             Rajasthan Royals           bat             Delhi Daredevils   \n",
       "3               Mumbai Indians           bat  Royal Challengers Bangalore   \n",
       "4              Deccan Chargers           bat        Kolkata Knight Riders   \n",
       "\n",
       "    result  result_margin eliminator method    umpire1         umpire2  \n",
       "0     runs          140.0          N    NaN  Asad Rauf     RE Koertzen  \n",
       "1     runs           33.0          N    NaN  MR Benson      SL Shastri  \n",
       "2  wickets            9.0          N    NaN  Aleem Dar  GA Pratapkumar  \n",
       "3  wickets            5.0          N    NaN   SJ Davis       DJ Harper  \n",
       "4  wickets            5.0          N    NaN  BF Bowden     K Hariharan  "
      ]
     },
     "execution_count": 3,
     "metadata": {},
     "output_type": "execute_result"
    }
   ],
   "source": [
    "df.head()"
   ]
  },
  {
   "cell_type": "code",
   "execution_count": 5,
   "id": "3f2d6c47",
   "metadata": {},
   "outputs": [
    {
     "data": {
      "text/html": [
       "<div>\n",
       "<style scoped>\n",
       "    .dataframe tbody tr th:only-of-type {\n",
       "        vertical-align: middle;\n",
       "    }\n",
       "\n",
       "    .dataframe tbody tr th {\n",
       "        vertical-align: top;\n",
       "    }\n",
       "\n",
       "    .dataframe thead th {\n",
       "        text-align: right;\n",
       "    }\n",
       "</style>\n",
       "<table border=\"1\" class=\"dataframe\">\n",
       "  <thead>\n",
       "    <tr style=\"text-align: right;\">\n",
       "      <th></th>\n",
       "      <th>team1</th>\n",
       "      <th>team2</th>\n",
       "      <th>winner</th>\n",
       "    </tr>\n",
       "  </thead>\n",
       "  <tbody>\n",
       "    <tr>\n",
       "      <th>0</th>\n",
       "      <td>Royal Challengers Bangalore</td>\n",
       "      <td>Kolkata Knight Riders</td>\n",
       "      <td>Kolkata Knight Riders</td>\n",
       "    </tr>\n",
       "    <tr>\n",
       "      <th>1</th>\n",
       "      <td>Kings XI Punjab</td>\n",
       "      <td>Chennai Super Kings</td>\n",
       "      <td>Chennai Super Kings</td>\n",
       "    </tr>\n",
       "    <tr>\n",
       "      <th>7</th>\n",
       "      <td>Chennai Super Kings</td>\n",
       "      <td>Mumbai Indians</td>\n",
       "      <td>Chennai Super Kings</td>\n",
       "    </tr>\n",
       "    <tr>\n",
       "      <th>9</th>\n",
       "      <td>Kings XI Punjab</td>\n",
       "      <td>Mumbai Indians</td>\n",
       "      <td>Kings XI Punjab</td>\n",
       "    </tr>\n",
       "    <tr>\n",
       "      <th>14</th>\n",
       "      <td>Royal Challengers Bangalore</td>\n",
       "      <td>Chennai Super Kings</td>\n",
       "      <td>Chennai Super Kings</td>\n",
       "    </tr>\n",
       "    <tr>\n",
       "      <th>...</th>\n",
       "      <td>...</td>\n",
       "      <td>...</td>\n",
       "      <td>...</td>\n",
       "    </tr>\n",
       "    <tr>\n",
       "      <th>804</th>\n",
       "      <td>Royal Challengers Bangalore</td>\n",
       "      <td>Kolkata Knight Riders</td>\n",
       "      <td>Royal Challengers Bangalore</td>\n",
       "    </tr>\n",
       "    <tr>\n",
       "      <th>806</th>\n",
       "      <td>Sunrisers Hyderabad</td>\n",
       "      <td>Kings XI Punjab</td>\n",
       "      <td>Sunrisers Hyderabad</td>\n",
       "    </tr>\n",
       "    <tr>\n",
       "      <th>807</th>\n",
       "      <td>Delhi Capitals</td>\n",
       "      <td>Rajasthan Royals</td>\n",
       "      <td>Delhi Capitals</td>\n",
       "    </tr>\n",
       "    <tr>\n",
       "      <th>812</th>\n",
       "      <td>Mumbai Indians</td>\n",
       "      <td>Delhi Capitals</td>\n",
       "      <td>Mumbai Indians</td>\n",
       "    </tr>\n",
       "    <tr>\n",
       "      <th>814</th>\n",
       "      <td>Delhi Capitals</td>\n",
       "      <td>Sunrisers Hyderabad</td>\n",
       "      <td>Delhi Capitals</td>\n",
       "    </tr>\n",
       "  </tbody>\n",
       "</table>\n",
       "<p>364 rows × 3 columns</p>\n",
       "</div>"
      ],
      "text/plain": [
       "                           team1                  team2  \\\n",
       "0    Royal Challengers Bangalore  Kolkata Knight Riders   \n",
       "1                Kings XI Punjab    Chennai Super Kings   \n",
       "7            Chennai Super Kings         Mumbai Indians   \n",
       "9                Kings XI Punjab         Mumbai Indians   \n",
       "14   Royal Challengers Bangalore    Chennai Super Kings   \n",
       "..                           ...                    ...   \n",
       "804  Royal Challengers Bangalore  Kolkata Knight Riders   \n",
       "806          Sunrisers Hyderabad        Kings XI Punjab   \n",
       "807               Delhi Capitals       Rajasthan Royals   \n",
       "812               Mumbai Indians         Delhi Capitals   \n",
       "814               Delhi Capitals    Sunrisers Hyderabad   \n",
       "\n",
       "                          winner  \n",
       "0          Kolkata Knight Riders  \n",
       "1            Chennai Super Kings  \n",
       "7            Chennai Super Kings  \n",
       "9                Kings XI Punjab  \n",
       "14           Chennai Super Kings  \n",
       "..                           ...  \n",
       "804  Royal Challengers Bangalore  \n",
       "806          Sunrisers Hyderabad  \n",
       "807               Delhi Capitals  \n",
       "812               Mumbai Indians  \n",
       "814               Delhi Capitals  \n",
       "\n",
       "[364 rows x 3 columns]"
      ]
     },
     "execution_count": 5,
     "metadata": {},
     "output_type": "execute_result"
    }
   ],
   "source": [
    "# 8.Name the team which is defeated by runs?\n",
    "\n",
    "df[['team1','team2','winner']].loc[df['result']=='runs']"
   ]
  },
  {
   "cell_type": "code",
   "execution_count": 15,
   "id": "00758445",
   "metadata": {},
   "outputs": [
    {
     "data": {
      "text/html": [
       "<div>\n",
       "<style scoped>\n",
       "    .dataframe tbody tr th:only-of-type {\n",
       "        vertical-align: middle;\n",
       "    }\n",
       "\n",
       "    .dataframe tbody tr th {\n",
       "        vertical-align: top;\n",
       "    }\n",
       "\n",
       "    .dataframe thead th {\n",
       "        text-align: right;\n",
       "    }\n",
       "</style>\n",
       "<table border=\"1\" class=\"dataframe\">\n",
       "  <thead>\n",
       "    <tr style=\"text-align: right;\">\n",
       "      <th></th>\n",
       "      <th>team1</th>\n",
       "      <th>team2</th>\n",
       "      <th>winner</th>\n",
       "      <th>0</th>\n",
       "    </tr>\n",
       "  </thead>\n",
       "  <tbody>\n",
       "    <tr>\n",
       "      <th>0</th>\n",
       "      <td>Chennai Super Kings</td>\n",
       "      <td>Deccan Chargers</td>\n",
       "      <td>Chennai Super Kings</td>\n",
       "      <td>4</td>\n",
       "    </tr>\n",
       "    <tr>\n",
       "      <th>1</th>\n",
       "      <td>Chennai Super Kings</td>\n",
       "      <td>Deccan Chargers</td>\n",
       "      <td>Deccan Chargers</td>\n",
       "      <td>3</td>\n",
       "    </tr>\n",
       "    <tr>\n",
       "      <th>7</th>\n",
       "      <td>Chennai Super Kings</td>\n",
       "      <td>Kings XI Punjab</td>\n",
       "      <td>Kings XI Punjab</td>\n",
       "      <td>4</td>\n",
       "    </tr>\n",
       "    <tr>\n",
       "      <th>9</th>\n",
       "      <td>Chennai Super Kings</td>\n",
       "      <td>Kolkata Knight Riders</td>\n",
       "      <td>Chennai Super Kings</td>\n",
       "      <td>8</td>\n",
       "    </tr>\n",
       "    <tr>\n",
       "      <th>14</th>\n",
       "      <td>Chennai Super Kings</td>\n",
       "      <td>Pune Warriors</td>\n",
       "      <td>Pune Warriors</td>\n",
       "      <td>1</td>\n",
       "    </tr>\n",
       "    <tr>\n",
       "      <th>...</th>\n",
       "      <td>...</td>\n",
       "      <td>...</td>\n",
       "      <td>...</td>\n",
       "      <td>...</td>\n",
       "    </tr>\n",
       "    <tr>\n",
       "      <th>236</th>\n",
       "      <td>Sunrisers Hyderabad</td>\n",
       "      <td>Kings XI Punjab</td>\n",
       "      <td>Sunrisers Hyderabad</td>\n",
       "      <td>7</td>\n",
       "    </tr>\n",
       "    <tr>\n",
       "      <th>237</th>\n",
       "      <td>Sunrisers Hyderabad</td>\n",
       "      <td>Kolkata Knight Riders</td>\n",
       "      <td>Kolkata Knight Riders</td>\n",
       "      <td>5</td>\n",
       "    </tr>\n",
       "    <tr>\n",
       "      <th>240</th>\n",
       "      <td>Sunrisers Hyderabad</td>\n",
       "      <td>Mumbai Indians</td>\n",
       "      <td>Sunrisers Hyderabad</td>\n",
       "      <td>4</td>\n",
       "    </tr>\n",
       "    <tr>\n",
       "      <th>246</th>\n",
       "      <td>Sunrisers Hyderabad</td>\n",
       "      <td>Royal Challengers Bangalore</td>\n",
       "      <td>Royal Challengers Bangalore</td>\n",
       "      <td>1</td>\n",
       "    </tr>\n",
       "    <tr>\n",
       "      <th>247</th>\n",
       "      <td>Sunrisers Hyderabad</td>\n",
       "      <td>Royal Challengers Bangalore</td>\n",
       "      <td>Sunrisers Hyderabad</td>\n",
       "      <td>6</td>\n",
       "    </tr>\n",
       "  </tbody>\n",
       "</table>\n",
       "<p>115 rows × 4 columns</p>\n",
       "</div>"
      ],
      "text/plain": [
       "                   team1                        team2  \\\n",
       "0    Chennai Super Kings              Deccan Chargers   \n",
       "1    Chennai Super Kings              Deccan Chargers   \n",
       "7    Chennai Super Kings              Kings XI Punjab   \n",
       "9    Chennai Super Kings        Kolkata Knight Riders   \n",
       "14   Chennai Super Kings                Pune Warriors   \n",
       "..                   ...                          ...   \n",
       "236  Sunrisers Hyderabad              Kings XI Punjab   \n",
       "237  Sunrisers Hyderabad        Kolkata Knight Riders   \n",
       "240  Sunrisers Hyderabad               Mumbai Indians   \n",
       "246  Sunrisers Hyderabad  Royal Challengers Bangalore   \n",
       "247  Sunrisers Hyderabad  Royal Challengers Bangalore   \n",
       "\n",
       "                          winner  0  \n",
       "0            Chennai Super Kings  4  \n",
       "1                Deccan Chargers  3  \n",
       "7                Kings XI Punjab  4  \n",
       "9            Chennai Super Kings  8  \n",
       "14                 Pune Warriors  1  \n",
       "..                           ... ..  \n",
       "236          Sunrisers Hyderabad  7  \n",
       "237        Kolkata Knight Riders  5  \n",
       "240          Sunrisers Hyderabad  4  \n",
       "246  Royal Challengers Bangalore  1  \n",
       "247          Sunrisers Hyderabad  6  \n",
       "\n",
       "[115 rows x 4 columns]"
      ]
     },
     "execution_count": 15,
     "metadata": {},
     "output_type": "execute_result"
    }
   ],
   "source": [
    "df.groupby(['team1','team2','winner']).size().reset_index().loc[df['result']=='runs']"
   ]
  },
  {
   "cell_type": "code",
   "execution_count": 16,
   "id": "7404b9a7",
   "metadata": {},
   "outputs": [],
   "source": [
    "df1 = pd.read_csv(r'C:\\Users\\Satyam\\Downloads\\IPL Ball-by-Ball 2008-2020.csv')"
   ]
  },
  {
   "cell_type": "code",
   "execution_count": 17,
   "id": "95e2d30d",
   "metadata": {},
   "outputs": [
    {
     "data": {
      "text/plain": [
       "Index(['id', 'inning', 'over', 'ball', 'batsman', 'non_striker', 'bowler',\n",
       "       'batsman_runs', 'extra_runs', 'total_runs', 'non_boundary', 'is_wicket',\n",
       "       'dismissal_kind', 'player_dismissed', 'fielder', 'extras_type',\n",
       "       'batting_team', 'bowling_team'],\n",
       "      dtype='object')"
      ]
     },
     "execution_count": 17,
     "metadata": {},
     "output_type": "execute_result"
    }
   ],
   "source": [
    "df1.columns"
   ]
  },
  {
   "cell_type": "code",
   "execution_count": 18,
   "id": "f92b5e77",
   "metadata": {},
   "outputs": [
    {
     "data": {
      "text/plain": [
       "0               AA Noffke\n",
       "1               AA Noffke\n",
       "2                  Z Khan\n",
       "3                  Z Khan\n",
       "4                  Z Khan\n",
       "               ...       \n",
       "193463    NM Coulter-Nile\n",
       "193464    NM Coulter-Nile\n",
       "193465          KH Pandya\n",
       "193466          KH Pandya\n",
       "193467          KH Pandya\n",
       "Name: bowler, Length: 193468, dtype: object"
      ]
     },
     "execution_count": 18,
     "metadata": {},
     "output_type": "execute_result"
    }
   ],
   "source": [
    "df1.bowler"
   ]
  },
  {
   "cell_type": "code",
   "execution_count": 19,
   "id": "dbbc2a52",
   "metadata": {},
   "outputs": [
    {
     "data": {
      "text/plain": [
       "0         0\n",
       "1         0\n",
       "2         0\n",
       "3         0\n",
       "4         0\n",
       "         ..\n",
       "193463    0\n",
       "193464    0\n",
       "193465    0\n",
       "193466    0\n",
       "193467    0\n",
       "Name: is_wicket, Length: 193468, dtype: int64"
      ]
     },
     "execution_count": 19,
     "metadata": {},
     "output_type": "execute_result"
    }
   ],
   "source": [
    "df1.is_wicket "
   ]
  },
  {
   "cell_type": "code",
   "execution_count": 20,
   "id": "cfb71f47",
   "metadata": {},
   "outputs": [
    {
     "ename": "ValueError",
     "evalue": "The truth value of a Series is ambiguous. Use a.empty, a.bool(), a.item(), a.any() or a.all().",
     "output_type": "error",
     "traceback": [
      "\u001b[1;31m---------------------------------------------------------------------------\u001b[0m",
      "\u001b[1;31mValueError\u001b[0m                                Traceback (most recent call last)",
      "\u001b[1;32m~\\AppData\\Local\\Temp/ipykernel_12088/1063590560.py\u001b[0m in \u001b[0;36m<module>\u001b[1;34m\u001b[0m\n\u001b[1;32m----> 1\u001b[1;33m \u001b[1;32mif\u001b[0m \u001b[0mdf\u001b[0m\u001b[1;33m[\u001b[0m\u001b[1;34m'team2'\u001b[0m\u001b[1;33m]\u001b[0m\u001b[1;33m==\u001b[0m\u001b[0mdf\u001b[0m\u001b[1;33m[\u001b[0m\u001b[1;34m'winner'\u001b[0m\u001b[1;33m]\u001b[0m\u001b[1;33m:\u001b[0m\u001b[1;33m\u001b[0m\u001b[1;33m\u001b[0m\u001b[0m\n\u001b[0m\u001b[0;32m      2\u001b[0m     \u001b[0mdf\u001b[0m\u001b[1;33m[\u001b[0m\u001b[1;34m'defeat'\u001b[0m\u001b[1;33m]\u001b[0m\u001b[1;33m=\u001b[0m\u001b[0mdf\u001b[0m\u001b[1;33m[\u001b[0m\u001b[1;34m'team1'\u001b[0m\u001b[1;33m]\u001b[0m\u001b[1;33m\u001b[0m\u001b[1;33m\u001b[0m\u001b[0m\n\u001b[0;32m      3\u001b[0m \u001b[1;32melse\u001b[0m\u001b[1;33m:\u001b[0m\u001b[1;33m\u001b[0m\u001b[1;33m\u001b[0m\u001b[0m\n\u001b[0;32m      4\u001b[0m     \u001b[0mdf\u001b[0m\u001b[1;33m[\u001b[0m\u001b[1;34m'defeat'\u001b[0m\u001b[1;33m]\u001b[0m\u001b[1;33m=\u001b[0m\u001b[0mdf\u001b[0m\u001b[1;33m[\u001b[0m\u001b[1;34m'team2'\u001b[0m\u001b[1;33m]\u001b[0m\u001b[1;33m\u001b[0m\u001b[1;33m\u001b[0m\u001b[0m\n",
      "\u001b[1;32m~\\Anaconda3\\lib\\site-packages\\pandas\\core\\generic.py\u001b[0m in \u001b[0;36m__nonzero__\u001b[1;34m(self)\u001b[0m\n\u001b[0;32m   1535\u001b[0m     \u001b[1;33m@\u001b[0m\u001b[0mfinal\u001b[0m\u001b[1;33m\u001b[0m\u001b[1;33m\u001b[0m\u001b[0m\n\u001b[0;32m   1536\u001b[0m     \u001b[1;32mdef\u001b[0m \u001b[0m__nonzero__\u001b[0m\u001b[1;33m(\u001b[0m\u001b[0mself\u001b[0m\u001b[1;33m)\u001b[0m\u001b[1;33m:\u001b[0m\u001b[1;33m\u001b[0m\u001b[1;33m\u001b[0m\u001b[0m\n\u001b[1;32m-> 1537\u001b[1;33m         raise ValueError(\n\u001b[0m\u001b[0;32m   1538\u001b[0m             \u001b[1;34mf\"The truth value of a {type(self).__name__} is ambiguous. \"\u001b[0m\u001b[1;33m\u001b[0m\u001b[1;33m\u001b[0m\u001b[0m\n\u001b[0;32m   1539\u001b[0m             \u001b[1;34m\"Use a.empty, a.bool(), a.item(), a.any() or a.all().\"\u001b[0m\u001b[1;33m\u001b[0m\u001b[1;33m\u001b[0m\u001b[0m\n",
      "\u001b[1;31mValueError\u001b[0m: The truth value of a Series is ambiguous. Use a.empty, a.bool(), a.item(), a.any() or a.all()."
     ]
    }
   ],
   "source": [
    "if df['team2']==df['winner']:\n",
    "    df['defeat']=df['team1']\n",
    "else:\n",
    "    df['defeat']=df['team2']"
   ]
  },
  {
   "cell_type": "code",
   "execution_count": 40,
   "id": "02ea545e",
   "metadata": {},
   "outputs": [],
   "source": [
    "wicket = df1[df1['is_wicket'] == 1]"
   ]
  },
  {
   "cell_type": "code",
   "execution_count": 44,
   "id": "bf56ffaa",
   "metadata": {},
   "outputs": [
    {
     "data": {
      "text/plain": [
       "Harbhajan Singh    3290\n",
       "R Ashwin           3174\n",
       "PP Chawla          3121\n",
       "A Mishra           3064\n",
       "SL Malinga         2786\n",
       "                   ... \n",
       "I Malhotra            6\n",
       "AM Rahane             5\n",
       "SPD Smith             2\n",
       "SN Khan               2\n",
       "DA Warner             2\n",
       "Name: bowler, Length: 419, dtype: int64"
      ]
     },
     "execution_count": 44,
     "metadata": {},
     "output_type": "execute_result"
    }
   ],
   "source": [
    "wicket.bowler"
   ]
  },
  {
   "cell_type": "code",
   "execution_count": 47,
   "id": "490fa94a",
   "metadata": {},
   "outputs": [
    {
     "data": {
      "text/plain": [
       "'AA Noffke'"
      ]
     },
     "execution_count": 47,
     "metadata": {},
     "output_type": "execute_result"
    }
   ],
   "source": [
    "# max wicket taker\n",
    "# top 5\n",
    "# bottom 5 wicket takers\n",
    "\n",
    "df1[\"bowler\"][df1[\"is_wicket\"].max()]"
   ]
  },
  {
   "cell_type": "code",
   "execution_count": 52,
   "id": "05546bfb",
   "metadata": {},
   "outputs": [],
   "source": [
    "x = df1.query('is_wicket == 1')"
   ]
  },
  {
   "cell_type": "code",
   "execution_count": 54,
   "id": "61f11d71",
   "metadata": {},
   "outputs": [
    {
     "data": {
      "text/plain": [
       "SL Malinga         188\n",
       "DJ Bravo           175\n",
       "A Mishra           169\n",
       "PP Chawla          164\n",
       "Harbhajan Singh    161\n",
       "                  ... \n",
       "SS Agarwal           1\n",
       "GR Napier            1\n",
       "DJM Short            1\n",
       "T Henderson          1\n",
       "JR Hazlewood         1\n",
       "Name: bowler, Length: 364, dtype: int64"
      ]
     },
     "execution_count": 54,
     "metadata": {},
     "output_type": "execute_result"
    }
   ],
   "source": [
    "x.bowler.value_counts()"
   ]
  },
  {
   "cell_type": "code",
   "execution_count": 57,
   "id": "03e55443",
   "metadata": {},
   "outputs": [
    {
     "data": {
      "text/plain": [
       "SL Malinga         188\n",
       "DJ Bravo           175\n",
       "A Mishra           169\n",
       "PP Chawla          164\n",
       "Harbhajan Singh    161\n",
       "                  ... \n",
       "SS Agarwal           1\n",
       "GR Napier            1\n",
       "DJM Short            1\n",
       "T Henderson          1\n",
       "JR Hazlewood         1\n",
       "Name: bowler, Length: 364, dtype: int64"
      ]
     },
     "execution_count": 57,
     "metadata": {},
     "output_type": "execute_result"
    }
   ],
   "source": [
    "df1[df1['is_wicket']==1].bowler.value_counts()"
   ]
  },
  {
   "cell_type": "code",
   "execution_count": 65,
   "id": "6519120b",
   "metadata": {},
   "outputs": [],
   "source": [
    "top_5_wicketTakers = df1[df1[['is_wicket']]==1][['bowler']].value_counts()"
   ]
  },
  {
   "cell_type": "code",
   "execution_count": 66,
   "id": "8ced6b4b",
   "metadata": {},
   "outputs": [
    {
     "data": {
      "text/plain": [
       "Series([], dtype: int64)"
      ]
     },
     "execution_count": 66,
     "metadata": {},
     "output_type": "execute_result"
    }
   ],
   "source": [
    "top_5_wicketTakers.head()"
   ]
  },
  {
   "cell_type": "code",
   "execution_count": 67,
   "id": "e308983d",
   "metadata": {},
   "outputs": [
    {
     "data": {
      "text/plain": [
       "SL Malinga         188\n",
       "DJ Bravo           175\n",
       "A Mishra           169\n",
       "PP Chawla          164\n",
       "Harbhajan Singh    161\n",
       "Name: bowler, dtype: int64"
      ]
     },
     "execution_count": 67,
     "metadata": {},
     "output_type": "execute_result"
    }
   ],
   "source": [
    "df1[df1['is_wicket']==1].bowler.value_counts().head()"
   ]
  },
  {
   "cell_type": "code",
   "execution_count": 68,
   "id": "dd655523",
   "metadata": {},
   "outputs": [
    {
     "data": {
      "text/plain": [
       "SS Agarwal      1\n",
       "GR Napier       1\n",
       "DJM Short       1\n",
       "T Henderson     1\n",
       "JR Hazlewood    1\n",
       "Name: bowler, dtype: int64"
      ]
     },
     "execution_count": 68,
     "metadata": {},
     "output_type": "execute_result"
    }
   ],
   "source": [
    "df1[df1['is_wicket']==1].bowler.value_counts().tail()"
   ]
  },
  {
   "cell_type": "code",
   "execution_count": 94,
   "id": "73b91d67",
   "metadata": {},
   "outputs": [],
   "source": [
    "# winning percentage of KKR?\n",
    "# total_match_kkr\n",
    "# win_match_by_kkr\n",
    "win_match_by_kkr = df.loc[df['winner']=='Kolkata Knight Riders'].shape[0]"
   ]
  },
  {
   "cell_type": "code",
   "execution_count": 80,
   "id": "9656881c",
   "metadata": {},
   "outputs": [
    {
     "data": {
      "text/plain": [
       "Index(['id', 'city', 'date', 'player_of_match', 'venue', 'neutral_venue',\n",
       "       'team1', 'team2', 'toss_winner', 'toss_decision', 'winner', 'result',\n",
       "       'result_margin', 'eliminator', 'method', 'umpire1', 'umpire2'],\n",
       "      dtype='object')"
      ]
     },
     "execution_count": 80,
     "metadata": {},
     "output_type": "execute_result"
    }
   ],
   "source": [
    "# total match by kkr\n",
    "df.columns"
   ]
  },
  {
   "cell_type": "code",
   "execution_count": 82,
   "id": "f844787d",
   "metadata": {},
   "outputs": [
    {
     "data": {
      "text/plain": [
       "(816, 17)"
      ]
     },
     "execution_count": 82,
     "metadata": {},
     "output_type": "execute_result"
    }
   ],
   "source": [
    "df.shape"
   ]
  },
  {
   "cell_type": "code",
   "execution_count": null,
   "id": "e2ae3e59",
   "metadata": {},
   "outputs": [],
   "source": []
  },
  {
   "cell_type": "code",
   "execution_count": 96,
   "id": "686df43d",
   "metadata": {},
   "outputs": [],
   "source": [
    "total_match_by_kkr = df.loc[(df[\"team1\"] == \"Kolkata Knight Riders\") | (df[\"team2\"] == \"Kolkata Knight Riders\")].shape[0]"
   ]
  },
  {
   "cell_type": "code",
   "execution_count": 99,
   "id": "ba2e6e2e",
   "metadata": {},
   "outputs": [],
   "source": [
    "win_per_by_kkr = (win_match_by_kkr/ total_match_by_kkr)"
   ]
  },
  {
   "cell_type": "code",
   "execution_count": 100,
   "id": "ea235d5c",
   "metadata": {},
   "outputs": [
    {
     "data": {
      "text/plain": [
       "0.515625"
      ]
     },
     "execution_count": 100,
     "metadata": {},
     "output_type": "execute_result"
    }
   ],
   "source": [
    "win_per_by_kkr"
   ]
  },
  {
   "cell_type": "code",
   "execution_count": null,
   "id": "b7cda0d5",
   "metadata": {},
   "outputs": [],
   "source": [
    "iqr, box plot"
   ]
  }
 ],
 "metadata": {
  "kernelspec": {
   "display_name": "Python 3 (ipykernel)",
   "language": "python",
   "name": "python3"
  },
  "language_info": {
   "codemirror_mode": {
    "name": "ipython",
    "version": 3
   },
   "file_extension": ".py",
   "mimetype": "text/x-python",
   "name": "python",
   "nbconvert_exporter": "python",
   "pygments_lexer": "ipython3",
   "version": "3.9.7"
  }
 },
 "nbformat": 4,
 "nbformat_minor": 5
}
