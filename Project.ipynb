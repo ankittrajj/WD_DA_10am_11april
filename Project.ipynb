{
 "cells": [
  {
   "cell_type": "markdown",
   "id": "93383d36",
   "metadata": {},
   "source": [
    "# Data Analysis\n",
    "##### 1. Source -----> kaggle\n",
    "#### 2. EDA"
   ]
  },
  {
   "cell_type": "code",
   "execution_count": 1,
   "id": "a8aa374d",
   "metadata": {},
   "outputs": [],
   "source": [
    "# importing the lib\n",
    "import numpy as np\n",
    "import pandas as pd\n",
    "import matplotlib.pyplot as plt\n",
    "import seaborn as sns"
   ]
  },
  {
   "cell_type": "code",
   "execution_count": 2,
   "id": "3b5b0710",
   "metadata": {},
   "outputs": [],
   "source": [
    "# reading the csv file.\n",
    "df = pd.read_csv(r'D:\\US_accident_EDA-Project\\US_Accidents.csv')"
   ]
  },
  {
   "cell_type": "code",
   "execution_count": 3,
   "id": "0be56b06",
   "metadata": {},
   "outputs": [
    {
     "data": {
      "text/html": [
       "<div>\n",
       "<style scoped>\n",
       "    .dataframe tbody tr th:only-of-type {\n",
       "        vertical-align: middle;\n",
       "    }\n",
       "\n",
       "    .dataframe tbody tr th {\n",
       "        vertical-align: top;\n",
       "    }\n",
       "\n",
       "    .dataframe thead th {\n",
       "        text-align: right;\n",
       "    }\n",
       "</style>\n",
       "<table border=\"1\" class=\"dataframe\">\n",
       "  <thead>\n",
       "    <tr style=\"text-align: right;\">\n",
       "      <th></th>\n",
       "      <th>ID</th>\n",
       "      <th>Severity</th>\n",
       "      <th>Start_Time</th>\n",
       "      <th>End_Time</th>\n",
       "      <th>Start_Lat</th>\n",
       "      <th>Start_Lng</th>\n",
       "      <th>End_Lat</th>\n",
       "      <th>End_Lng</th>\n",
       "      <th>Distance(mi)</th>\n",
       "      <th>Description</th>\n",
       "      <th>...</th>\n",
       "      <th>Roundabout</th>\n",
       "      <th>Station</th>\n",
       "      <th>Stop</th>\n",
       "      <th>Traffic_Calming</th>\n",
       "      <th>Traffic_Signal</th>\n",
       "      <th>Turning_Loop</th>\n",
       "      <th>Sunrise_Sunset</th>\n",
       "      <th>Civil_Twilight</th>\n",
       "      <th>Nautical_Twilight</th>\n",
       "      <th>Astronomical_Twilight</th>\n",
       "    </tr>\n",
       "  </thead>\n",
       "  <tbody>\n",
       "    <tr>\n",
       "      <th>0</th>\n",
       "      <td>A-1</td>\n",
       "      <td>3</td>\n",
       "      <td>2016-02-08 00:37:08</td>\n",
       "      <td>2016-02-08 06:37:08</td>\n",
       "      <td>40.108910</td>\n",
       "      <td>-83.092860</td>\n",
       "      <td>40.112060</td>\n",
       "      <td>-83.031870</td>\n",
       "      <td>3.230</td>\n",
       "      <td>Between Sawmill Rd/Exit 20 and OH-315/Olentang...</td>\n",
       "      <td>...</td>\n",
       "      <td>False</td>\n",
       "      <td>False</td>\n",
       "      <td>False</td>\n",
       "      <td>False</td>\n",
       "      <td>False</td>\n",
       "      <td>False</td>\n",
       "      <td>Night</td>\n",
       "      <td>Night</td>\n",
       "      <td>Night</td>\n",
       "      <td>Night</td>\n",
       "    </tr>\n",
       "    <tr>\n",
       "      <th>1</th>\n",
       "      <td>A-2</td>\n",
       "      <td>2</td>\n",
       "      <td>2016-02-08 05:56:20</td>\n",
       "      <td>2016-02-08 11:56:20</td>\n",
       "      <td>39.865420</td>\n",
       "      <td>-84.062800</td>\n",
       "      <td>39.865010</td>\n",
       "      <td>-84.048730</td>\n",
       "      <td>0.747</td>\n",
       "      <td>At OH-4/OH-235/Exit 41 - Accident.</td>\n",
       "      <td>...</td>\n",
       "      <td>False</td>\n",
       "      <td>False</td>\n",
       "      <td>False</td>\n",
       "      <td>False</td>\n",
       "      <td>False</td>\n",
       "      <td>False</td>\n",
       "      <td>Night</td>\n",
       "      <td>Night</td>\n",
       "      <td>Night</td>\n",
       "      <td>Night</td>\n",
       "    </tr>\n",
       "    <tr>\n",
       "      <th>2</th>\n",
       "      <td>A-3</td>\n",
       "      <td>2</td>\n",
       "      <td>2016-02-08 06:15:39</td>\n",
       "      <td>2016-02-08 12:15:39</td>\n",
       "      <td>39.102660</td>\n",
       "      <td>-84.524680</td>\n",
       "      <td>39.102090</td>\n",
       "      <td>-84.523960</td>\n",
       "      <td>0.055</td>\n",
       "      <td>At I-71/US-50/Exit 1 - Accident.</td>\n",
       "      <td>...</td>\n",
       "      <td>False</td>\n",
       "      <td>False</td>\n",
       "      <td>False</td>\n",
       "      <td>False</td>\n",
       "      <td>False</td>\n",
       "      <td>False</td>\n",
       "      <td>Night</td>\n",
       "      <td>Night</td>\n",
       "      <td>Night</td>\n",
       "      <td>Day</td>\n",
       "    </tr>\n",
       "    <tr>\n",
       "      <th>3</th>\n",
       "      <td>A-4</td>\n",
       "      <td>2</td>\n",
       "      <td>2016-02-08 06:51:45</td>\n",
       "      <td>2016-02-08 12:51:45</td>\n",
       "      <td>41.062130</td>\n",
       "      <td>-81.537840</td>\n",
       "      <td>41.062170</td>\n",
       "      <td>-81.535470</td>\n",
       "      <td>0.123</td>\n",
       "      <td>At Dart Ave/Exit 21 - Accident.</td>\n",
       "      <td>...</td>\n",
       "      <td>False</td>\n",
       "      <td>False</td>\n",
       "      <td>False</td>\n",
       "      <td>False</td>\n",
       "      <td>False</td>\n",
       "      <td>False</td>\n",
       "      <td>Night</td>\n",
       "      <td>Night</td>\n",
       "      <td>Day</td>\n",
       "      <td>Day</td>\n",
       "    </tr>\n",
       "    <tr>\n",
       "      <th>4</th>\n",
       "      <td>A-5</td>\n",
       "      <td>3</td>\n",
       "      <td>2016-02-08 07:53:43</td>\n",
       "      <td>2016-02-08 13:53:43</td>\n",
       "      <td>39.172393</td>\n",
       "      <td>-84.492792</td>\n",
       "      <td>39.170476</td>\n",
       "      <td>-84.501798</td>\n",
       "      <td>0.500</td>\n",
       "      <td>At Mitchell Ave/Exit 6 - Accident.</td>\n",
       "      <td>...</td>\n",
       "      <td>False</td>\n",
       "      <td>False</td>\n",
       "      <td>False</td>\n",
       "      <td>False</td>\n",
       "      <td>False</td>\n",
       "      <td>False</td>\n",
       "      <td>Day</td>\n",
       "      <td>Day</td>\n",
       "      <td>Day</td>\n",
       "      <td>Day</td>\n",
       "    </tr>\n",
       "  </tbody>\n",
       "</table>\n",
       "<p>5 rows × 47 columns</p>\n",
       "</div>"
      ],
      "text/plain": [
       "    ID  Severity           Start_Time             End_Time  Start_Lat  \\\n",
       "0  A-1         3  2016-02-08 00:37:08  2016-02-08 06:37:08  40.108910   \n",
       "1  A-2         2  2016-02-08 05:56:20  2016-02-08 11:56:20  39.865420   \n",
       "2  A-3         2  2016-02-08 06:15:39  2016-02-08 12:15:39  39.102660   \n",
       "3  A-4         2  2016-02-08 06:51:45  2016-02-08 12:51:45  41.062130   \n",
       "4  A-5         3  2016-02-08 07:53:43  2016-02-08 13:53:43  39.172393   \n",
       "\n",
       "   Start_Lng    End_Lat    End_Lng  Distance(mi)  \\\n",
       "0 -83.092860  40.112060 -83.031870         3.230   \n",
       "1 -84.062800  39.865010 -84.048730         0.747   \n",
       "2 -84.524680  39.102090 -84.523960         0.055   \n",
       "3 -81.537840  41.062170 -81.535470         0.123   \n",
       "4 -84.492792  39.170476 -84.501798         0.500   \n",
       "\n",
       "                                         Description  ...  Roundabout Station  \\\n",
       "0  Between Sawmill Rd/Exit 20 and OH-315/Olentang...  ...       False   False   \n",
       "1                 At OH-4/OH-235/Exit 41 - Accident.  ...       False   False   \n",
       "2                   At I-71/US-50/Exit 1 - Accident.  ...       False   False   \n",
       "3                    At Dart Ave/Exit 21 - Accident.  ...       False   False   \n",
       "4                 At Mitchell Ave/Exit 6 - Accident.  ...       False   False   \n",
       "\n",
       "    Stop Traffic_Calming Traffic_Signal Turning_Loop Sunrise_Sunset  \\\n",
       "0  False           False          False        False          Night   \n",
       "1  False           False          False        False          Night   \n",
       "2  False           False          False        False          Night   \n",
       "3  False           False          False        False          Night   \n",
       "4  False           False          False        False            Day   \n",
       "\n",
       "  Civil_Twilight Nautical_Twilight Astronomical_Twilight  \n",
       "0          Night             Night                 Night  \n",
       "1          Night             Night                 Night  \n",
       "2          Night             Night                   Day  \n",
       "3          Night               Day                   Day  \n",
       "4            Day               Day                   Day  \n",
       "\n",
       "[5 rows x 47 columns]"
      ]
     },
     "execution_count": 3,
     "metadata": {},
     "output_type": "execute_result"
    }
   ],
   "source": [
    "# observe the data from the top.\n",
    "df.head()"
   ]
  },
  {
   "cell_type": "code",
   "execution_count": 4,
   "id": "ab5bbbd7",
   "metadata": {},
   "outputs": [
    {
     "data": {
      "text/plain": [
       "(2845342, 47)"
      ]
     },
     "execution_count": 4,
     "metadata": {},
     "output_type": "execute_result"
    }
   ],
   "source": [
    "# observe the shape of the data.\n",
    "df.shape"
   ]
  },
  {
   "cell_type": "markdown",
   "id": "f8d70d5b",
   "metadata": {},
   "source": [
    "# Data Preparation & Cleaning\n",
    "\n",
    "#### get some info about the data\n",
    "#### handel missing values"
   ]
  },
  {
   "cell_type": "code",
   "execution_count": 5,
   "id": "d35d93ea",
   "metadata": {},
   "outputs": [
    {
     "data": {
      "text/plain": [
       "Index(['ID', 'Severity', 'Start_Time', 'End_Time', 'Start_Lat', 'Start_Lng',\n",
       "       'End_Lat', 'End_Lng', 'Distance(mi)', 'Description', 'Number', 'Street',\n",
       "       'Side', 'City', 'County', 'State', 'Zipcode', 'Country', 'Timezone',\n",
       "       'Airport_Code', 'Weather_Timestamp', 'Temperature(F)', 'Wind_Chill(F)',\n",
       "       'Humidity(%)', 'Pressure(in)', 'Visibility(mi)', 'Wind_Direction',\n",
       "       'Wind_Speed(mph)', 'Precipitation(in)', 'Weather_Condition', 'Amenity',\n",
       "       'Bump', 'Crossing', 'Give_Way', 'Junction', 'No_Exit', 'Railway',\n",
       "       'Roundabout', 'Station', 'Stop', 'Traffic_Calming', 'Traffic_Signal',\n",
       "       'Turning_Loop', 'Sunrise_Sunset', 'Civil_Twilight', 'Nautical_Twilight',\n",
       "       'Astronomical_Twilight'],\n",
       "      dtype='object')"
      ]
     },
     "execution_count": 5,
     "metadata": {},
     "output_type": "execute_result"
    }
   ],
   "source": [
    "df.columns"
   ]
  },
  {
   "cell_type": "code",
   "execution_count": 6,
   "id": "12378940",
   "metadata": {},
   "outputs": [
    {
     "data": {
      "text/html": [
       "<div>\n",
       "<style scoped>\n",
       "    .dataframe tbody tr th:only-of-type {\n",
       "        vertical-align: middle;\n",
       "    }\n",
       "\n",
       "    .dataframe tbody tr th {\n",
       "        vertical-align: top;\n",
       "    }\n",
       "\n",
       "    .dataframe thead th {\n",
       "        text-align: right;\n",
       "    }\n",
       "</style>\n",
       "<table border=\"1\" class=\"dataframe\">\n",
       "  <thead>\n",
       "    <tr style=\"text-align: right;\">\n",
       "      <th></th>\n",
       "      <th>Severity</th>\n",
       "      <th>Start_Lat</th>\n",
       "      <th>Start_Lng</th>\n",
       "      <th>End_Lat</th>\n",
       "      <th>End_Lng</th>\n",
       "      <th>Distance(mi)</th>\n",
       "      <th>Number</th>\n",
       "      <th>Temperature(F)</th>\n",
       "      <th>Wind_Chill(F)</th>\n",
       "      <th>Humidity(%)</th>\n",
       "      <th>Pressure(in)</th>\n",
       "      <th>Visibility(mi)</th>\n",
       "      <th>Wind_Speed(mph)</th>\n",
       "      <th>Precipitation(in)</th>\n",
       "    </tr>\n",
       "  </thead>\n",
       "  <tbody>\n",
       "    <tr>\n",
       "      <th>count</th>\n",
       "      <td>2.845342e+06</td>\n",
       "      <td>2.845342e+06</td>\n",
       "      <td>2.845342e+06</td>\n",
       "      <td>2.845342e+06</td>\n",
       "      <td>2.845342e+06</td>\n",
       "      <td>2.845342e+06</td>\n",
       "      <td>1.101431e+06</td>\n",
       "      <td>2.776068e+06</td>\n",
       "      <td>2.375699e+06</td>\n",
       "      <td>2.772250e+06</td>\n",
       "      <td>2.786142e+06</td>\n",
       "      <td>2.774796e+06</td>\n",
       "      <td>2.687398e+06</td>\n",
       "      <td>2.295884e+06</td>\n",
       "    </tr>\n",
       "    <tr>\n",
       "      <th>mean</th>\n",
       "      <td>2.137572e+00</td>\n",
       "      <td>3.624520e+01</td>\n",
       "      <td>-9.711463e+01</td>\n",
       "      <td>3.624532e+01</td>\n",
       "      <td>-9.711439e+01</td>\n",
       "      <td>7.026779e-01</td>\n",
       "      <td>8.089408e+03</td>\n",
       "      <td>6.179356e+01</td>\n",
       "      <td>5.965823e+01</td>\n",
       "      <td>6.436545e+01</td>\n",
       "      <td>2.947234e+01</td>\n",
       "      <td>9.099391e+00</td>\n",
       "      <td>7.395044e+00</td>\n",
       "      <td>7.016940e-03</td>\n",
       "    </tr>\n",
       "    <tr>\n",
       "      <th>std</th>\n",
       "      <td>4.787216e-01</td>\n",
       "      <td>5.363797e+00</td>\n",
       "      <td>1.831782e+01</td>\n",
       "      <td>5.363873e+00</td>\n",
       "      <td>1.831763e+01</td>\n",
       "      <td>1.560361e+00</td>\n",
       "      <td>1.836009e+04</td>\n",
       "      <td>1.862263e+01</td>\n",
       "      <td>2.116097e+01</td>\n",
       "      <td>2.287457e+01</td>\n",
       "      <td>1.045286e+00</td>\n",
       "      <td>2.717546e+00</td>\n",
       "      <td>5.527454e+00</td>\n",
       "      <td>9.348831e-02</td>\n",
       "    </tr>\n",
       "    <tr>\n",
       "      <th>min</th>\n",
       "      <td>1.000000e+00</td>\n",
       "      <td>2.456603e+01</td>\n",
       "      <td>-1.245481e+02</td>\n",
       "      <td>2.456601e+01</td>\n",
       "      <td>-1.245457e+02</td>\n",
       "      <td>0.000000e+00</td>\n",
       "      <td>0.000000e+00</td>\n",
       "      <td>-8.900000e+01</td>\n",
       "      <td>-8.900000e+01</td>\n",
       "      <td>1.000000e+00</td>\n",
       "      <td>0.000000e+00</td>\n",
       "      <td>0.000000e+00</td>\n",
       "      <td>0.000000e+00</td>\n",
       "      <td>0.000000e+00</td>\n",
       "    </tr>\n",
       "    <tr>\n",
       "      <th>25%</th>\n",
       "      <td>2.000000e+00</td>\n",
       "      <td>3.344517e+01</td>\n",
       "      <td>-1.180331e+02</td>\n",
       "      <td>3.344628e+01</td>\n",
       "      <td>-1.180333e+02</td>\n",
       "      <td>5.200000e-02</td>\n",
       "      <td>1.270000e+03</td>\n",
       "      <td>5.000000e+01</td>\n",
       "      <td>4.600000e+01</td>\n",
       "      <td>4.800000e+01</td>\n",
       "      <td>2.931000e+01</td>\n",
       "      <td>1.000000e+01</td>\n",
       "      <td>3.500000e+00</td>\n",
       "      <td>0.000000e+00</td>\n",
       "    </tr>\n",
       "    <tr>\n",
       "      <th>50%</th>\n",
       "      <td>2.000000e+00</td>\n",
       "      <td>3.609861e+01</td>\n",
       "      <td>-9.241808e+01</td>\n",
       "      <td>3.609799e+01</td>\n",
       "      <td>-9.241772e+01</td>\n",
       "      <td>2.440000e-01</td>\n",
       "      <td>4.007000e+03</td>\n",
       "      <td>6.400000e+01</td>\n",
       "      <td>6.300000e+01</td>\n",
       "      <td>6.700000e+01</td>\n",
       "      <td>2.982000e+01</td>\n",
       "      <td>1.000000e+01</td>\n",
       "      <td>7.000000e+00</td>\n",
       "      <td>0.000000e+00</td>\n",
       "    </tr>\n",
       "    <tr>\n",
       "      <th>75%</th>\n",
       "      <td>2.000000e+00</td>\n",
       "      <td>4.016024e+01</td>\n",
       "      <td>-8.037243e+01</td>\n",
       "      <td>4.016105e+01</td>\n",
       "      <td>-8.037338e+01</td>\n",
       "      <td>7.640000e-01</td>\n",
       "      <td>9.567000e+03</td>\n",
       "      <td>7.600000e+01</td>\n",
       "      <td>7.600000e+01</td>\n",
       "      <td>8.300000e+01</td>\n",
       "      <td>3.001000e+01</td>\n",
       "      <td>1.000000e+01</td>\n",
       "      <td>1.000000e+01</td>\n",
       "      <td>0.000000e+00</td>\n",
       "    </tr>\n",
       "    <tr>\n",
       "      <th>max</th>\n",
       "      <td>4.000000e+00</td>\n",
       "      <td>4.900058e+01</td>\n",
       "      <td>-6.711317e+01</td>\n",
       "      <td>4.907500e+01</td>\n",
       "      <td>-6.710924e+01</td>\n",
       "      <td>1.551860e+02</td>\n",
       "      <td>9.999997e+06</td>\n",
       "      <td>1.960000e+02</td>\n",
       "      <td>1.960000e+02</td>\n",
       "      <td>1.000000e+02</td>\n",
       "      <td>5.890000e+01</td>\n",
       "      <td>1.400000e+02</td>\n",
       "      <td>1.087000e+03</td>\n",
       "      <td>2.400000e+01</td>\n",
       "    </tr>\n",
       "  </tbody>\n",
       "</table>\n",
       "</div>"
      ],
      "text/plain": [
       "           Severity     Start_Lat     Start_Lng       End_Lat       End_Lng  \\\n",
       "count  2.845342e+06  2.845342e+06  2.845342e+06  2.845342e+06  2.845342e+06   \n",
       "mean   2.137572e+00  3.624520e+01 -9.711463e+01  3.624532e+01 -9.711439e+01   \n",
       "std    4.787216e-01  5.363797e+00  1.831782e+01  5.363873e+00  1.831763e+01   \n",
       "min    1.000000e+00  2.456603e+01 -1.245481e+02  2.456601e+01 -1.245457e+02   \n",
       "25%    2.000000e+00  3.344517e+01 -1.180331e+02  3.344628e+01 -1.180333e+02   \n",
       "50%    2.000000e+00  3.609861e+01 -9.241808e+01  3.609799e+01 -9.241772e+01   \n",
       "75%    2.000000e+00  4.016024e+01 -8.037243e+01  4.016105e+01 -8.037338e+01   \n",
       "max    4.000000e+00  4.900058e+01 -6.711317e+01  4.907500e+01 -6.710924e+01   \n",
       "\n",
       "       Distance(mi)        Number  Temperature(F)  Wind_Chill(F)  \\\n",
       "count  2.845342e+06  1.101431e+06    2.776068e+06   2.375699e+06   \n",
       "mean   7.026779e-01  8.089408e+03    6.179356e+01   5.965823e+01   \n",
       "std    1.560361e+00  1.836009e+04    1.862263e+01   2.116097e+01   \n",
       "min    0.000000e+00  0.000000e+00   -8.900000e+01  -8.900000e+01   \n",
       "25%    5.200000e-02  1.270000e+03    5.000000e+01   4.600000e+01   \n",
       "50%    2.440000e-01  4.007000e+03    6.400000e+01   6.300000e+01   \n",
       "75%    7.640000e-01  9.567000e+03    7.600000e+01   7.600000e+01   \n",
       "max    1.551860e+02  9.999997e+06    1.960000e+02   1.960000e+02   \n",
       "\n",
       "        Humidity(%)  Pressure(in)  Visibility(mi)  Wind_Speed(mph)  \\\n",
       "count  2.772250e+06  2.786142e+06    2.774796e+06     2.687398e+06   \n",
       "mean   6.436545e+01  2.947234e+01    9.099391e+00     7.395044e+00   \n",
       "std    2.287457e+01  1.045286e+00    2.717546e+00     5.527454e+00   \n",
       "min    1.000000e+00  0.000000e+00    0.000000e+00     0.000000e+00   \n",
       "25%    4.800000e+01  2.931000e+01    1.000000e+01     3.500000e+00   \n",
       "50%    6.700000e+01  2.982000e+01    1.000000e+01     7.000000e+00   \n",
       "75%    8.300000e+01  3.001000e+01    1.000000e+01     1.000000e+01   \n",
       "max    1.000000e+02  5.890000e+01    1.400000e+02     1.087000e+03   \n",
       "\n",
       "       Precipitation(in)  \n",
       "count       2.295884e+06  \n",
       "mean        7.016940e-03  \n",
       "std         9.348831e-02  \n",
       "min         0.000000e+00  \n",
       "25%         0.000000e+00  \n",
       "50%         0.000000e+00  \n",
       "75%         0.000000e+00  \n",
       "max         2.400000e+01  "
      ]
     },
     "execution_count": 6,
     "metadata": {},
     "output_type": "execute_result"
    }
   ],
   "source": [
    "df.describe()"
   ]
  },
  {
   "cell_type": "code",
   "execution_count": 7,
   "id": "20c47eb3",
   "metadata": {},
   "outputs": [
    {
     "data": {
      "text/html": [
       "<div>\n",
       "<style scoped>\n",
       "    .dataframe tbody tr th:only-of-type {\n",
       "        vertical-align: middle;\n",
       "    }\n",
       "\n",
       "    .dataframe tbody tr th {\n",
       "        vertical-align: top;\n",
       "    }\n",
       "\n",
       "    .dataframe thead th {\n",
       "        text-align: right;\n",
       "    }\n",
       "</style>\n",
       "<table border=\"1\" class=\"dataframe\">\n",
       "  <thead>\n",
       "    <tr style=\"text-align: right;\">\n",
       "      <th></th>\n",
       "      <th>Severity</th>\n",
       "      <th>Start_Lat</th>\n",
       "      <th>Start_Lng</th>\n",
       "      <th>End_Lat</th>\n",
       "      <th>End_Lng</th>\n",
       "      <th>Distance(mi)</th>\n",
       "      <th>Number</th>\n",
       "      <th>Temperature(F)</th>\n",
       "      <th>Wind_Chill(F)</th>\n",
       "      <th>Humidity(%)</th>\n",
       "      <th>...</th>\n",
       "      <th>Give_Way</th>\n",
       "      <th>Junction</th>\n",
       "      <th>No_Exit</th>\n",
       "      <th>Railway</th>\n",
       "      <th>Roundabout</th>\n",
       "      <th>Station</th>\n",
       "      <th>Stop</th>\n",
       "      <th>Traffic_Calming</th>\n",
       "      <th>Traffic_Signal</th>\n",
       "      <th>Turning_Loop</th>\n",
       "    </tr>\n",
       "  </thead>\n",
       "  <tbody>\n",
       "    <tr>\n",
       "      <th>Severity</th>\n",
       "      <td>1.000000</td>\n",
       "      <td>0.089207</td>\n",
       "      <td>0.114063</td>\n",
       "      <td>0.089209</td>\n",
       "      <td>0.114064</td>\n",
       "      <td>0.092140</td>\n",
       "      <td>-0.000689</td>\n",
       "      <td>-0.045335</td>\n",
       "      <td>-0.097459</td>\n",
       "      <td>0.037802</td>\n",
       "      <td>...</td>\n",
       "      <td>0.008141</td>\n",
       "      <td>0.045928</td>\n",
       "      <td>-0.002359</td>\n",
       "      <td>-0.001747</td>\n",
       "      <td>-0.000773</td>\n",
       "      <td>-0.018017</td>\n",
       "      <td>-0.002536</td>\n",
       "      <td>-0.003009</td>\n",
       "      <td>-0.012798</td>\n",
       "      <td>NaN</td>\n",
       "    </tr>\n",
       "    <tr>\n",
       "      <th>Start_Lat</th>\n",
       "      <td>0.089207</td>\n",
       "      <td>1.000000</td>\n",
       "      <td>-0.154965</td>\n",
       "      <td>0.999995</td>\n",
       "      <td>-0.154962</td>\n",
       "      <td>0.071588</td>\n",
       "      <td>0.101281</td>\n",
       "      <td>-0.475065</td>\n",
       "      <td>-0.505567</td>\n",
       "      <td>0.005876</td>\n",
       "      <td>...</td>\n",
       "      <td>0.007851</td>\n",
       "      <td>0.043628</td>\n",
       "      <td>-0.017348</td>\n",
       "      <td>0.003184</td>\n",
       "      <td>-0.003366</td>\n",
       "      <td>-0.107697</td>\n",
       "      <td>0.010817</td>\n",
       "      <td>-0.003164</td>\n",
       "      <td>-0.058208</td>\n",
       "      <td>NaN</td>\n",
       "    </tr>\n",
       "    <tr>\n",
       "      <th>Start_Lng</th>\n",
       "      <td>0.114063</td>\n",
       "      <td>-0.154965</td>\n",
       "      <td>1.000000</td>\n",
       "      <td>-0.154956</td>\n",
       "      <td>0.999999</td>\n",
       "      <td>0.039861</td>\n",
       "      <td>-0.170566</td>\n",
       "      <td>0.032159</td>\n",
       "      <td>0.010849</td>\n",
       "      <td>0.170909</td>\n",
       "      <td>...</td>\n",
       "      <td>0.018110</td>\n",
       "      <td>-0.017202</td>\n",
       "      <td>0.006220</td>\n",
       "      <td>-0.015450</td>\n",
       "      <td>0.000450</td>\n",
       "      <td>0.038533</td>\n",
       "      <td>-0.040265</td>\n",
       "      <td>-0.007750</td>\n",
       "      <td>0.059568</td>\n",
       "      <td>NaN</td>\n",
       "    </tr>\n",
       "    <tr>\n",
       "      <th>End_Lat</th>\n",
       "      <td>0.089209</td>\n",
       "      <td>0.999995</td>\n",
       "      <td>-0.154956</td>\n",
       "      <td>1.000000</td>\n",
       "      <td>-0.154953</td>\n",
       "      <td>0.071593</td>\n",
       "      <td>0.101270</td>\n",
       "      <td>-0.475058</td>\n",
       "      <td>-0.505561</td>\n",
       "      <td>0.005869</td>\n",
       "      <td>...</td>\n",
       "      <td>0.007840</td>\n",
       "      <td>0.043621</td>\n",
       "      <td>-0.017347</td>\n",
       "      <td>0.003184</td>\n",
       "      <td>-0.003366</td>\n",
       "      <td>-0.107696</td>\n",
       "      <td>0.010827</td>\n",
       "      <td>-0.003163</td>\n",
       "      <td>-0.058210</td>\n",
       "      <td>NaN</td>\n",
       "    </tr>\n",
       "    <tr>\n",
       "      <th>End_Lng</th>\n",
       "      <td>0.114064</td>\n",
       "      <td>-0.154962</td>\n",
       "      <td>0.999999</td>\n",
       "      <td>-0.154953</td>\n",
       "      <td>1.000000</td>\n",
       "      <td>0.039830</td>\n",
       "      <td>-0.170563</td>\n",
       "      <td>0.032163</td>\n",
       "      <td>0.010852</td>\n",
       "      <td>0.170904</td>\n",
       "      <td>...</td>\n",
       "      <td>0.018110</td>\n",
       "      <td>-0.017199</td>\n",
       "      <td>0.006220</td>\n",
       "      <td>-0.015449</td>\n",
       "      <td>0.000450</td>\n",
       "      <td>0.038533</td>\n",
       "      <td>-0.040264</td>\n",
       "      <td>-0.007750</td>\n",
       "      <td>0.059566</td>\n",
       "      <td>NaN</td>\n",
       "    </tr>\n",
       "    <tr>\n",
       "      <th>Distance(mi)</th>\n",
       "      <td>0.092140</td>\n",
       "      <td>0.071588</td>\n",
       "      <td>0.039861</td>\n",
       "      <td>0.071593</td>\n",
       "      <td>0.039830</td>\n",
       "      <td>1.000000</td>\n",
       "      <td>0.067331</td>\n",
       "      <td>-0.051212</td>\n",
       "      <td>-0.060094</td>\n",
       "      <td>0.026860</td>\n",
       "      <td>...</td>\n",
       "      <td>-0.006655</td>\n",
       "      <td>0.022442</td>\n",
       "      <td>-0.010184</td>\n",
       "      <td>-0.021462</td>\n",
       "      <td>-0.002491</td>\n",
       "      <td>-0.052826</td>\n",
       "      <td>-0.027108</td>\n",
       "      <td>-0.007322</td>\n",
       "      <td>-0.105722</td>\n",
       "      <td>NaN</td>\n",
       "    </tr>\n",
       "    <tr>\n",
       "      <th>Number</th>\n",
       "      <td>-0.000689</td>\n",
       "      <td>0.101281</td>\n",
       "      <td>-0.170566</td>\n",
       "      <td>0.101270</td>\n",
       "      <td>-0.170563</td>\n",
       "      <td>0.067331</td>\n",
       "      <td>1.000000</td>\n",
       "      <td>-0.051146</td>\n",
       "      <td>-0.049400</td>\n",
       "      <td>0.015825</td>\n",
       "      <td>...</td>\n",
       "      <td>-0.003792</td>\n",
       "      <td>-0.010801</td>\n",
       "      <td>-0.005052</td>\n",
       "      <td>-0.013668</td>\n",
       "      <td>-0.001360</td>\n",
       "      <td>-0.028485</td>\n",
       "      <td>-0.003688</td>\n",
       "      <td>-0.005075</td>\n",
       "      <td>-0.058870</td>\n",
       "      <td>NaN</td>\n",
       "    </tr>\n",
       "    <tr>\n",
       "      <th>Temperature(F)</th>\n",
       "      <td>-0.045335</td>\n",
       "      <td>-0.475065</td>\n",
       "      <td>0.032159</td>\n",
       "      <td>-0.475058</td>\n",
       "      <td>0.032163</td>\n",
       "      <td>-0.051212</td>\n",
       "      <td>-0.051146</td>\n",
       "      <td>1.000000</td>\n",
       "      <td>0.993857</td>\n",
       "      <td>-0.366527</td>\n",
       "      <td>...</td>\n",
       "      <td>-0.005524</td>\n",
       "      <td>-0.020358</td>\n",
       "      <td>0.011610</td>\n",
       "      <td>0.003108</td>\n",
       "      <td>0.002122</td>\n",
       "      <td>0.061248</td>\n",
       "      <td>0.000021</td>\n",
       "      <td>0.005672</td>\n",
       "      <td>0.047657</td>\n",
       "      <td>NaN</td>\n",
       "    </tr>\n",
       "    <tr>\n",
       "      <th>Wind_Chill(F)</th>\n",
       "      <td>-0.097459</td>\n",
       "      <td>-0.505567</td>\n",
       "      <td>0.010849</td>\n",
       "      <td>-0.505561</td>\n",
       "      <td>0.010852</td>\n",
       "      <td>-0.060094</td>\n",
       "      <td>-0.049400</td>\n",
       "      <td>0.993857</td>\n",
       "      <td>1.000000</td>\n",
       "      <td>-0.346028</td>\n",
       "      <td>...</td>\n",
       "      <td>-0.007584</td>\n",
       "      <td>-0.048784</td>\n",
       "      <td>0.012066</td>\n",
       "      <td>0.005062</td>\n",
       "      <td>0.002466</td>\n",
       "      <td>0.069379</td>\n",
       "      <td>0.005424</td>\n",
       "      <td>0.007140</td>\n",
       "      <td>0.048321</td>\n",
       "      <td>NaN</td>\n",
       "    </tr>\n",
       "    <tr>\n",
       "      <th>Humidity(%)</th>\n",
       "      <td>0.037802</td>\n",
       "      <td>0.005876</td>\n",
       "      <td>0.170909</td>\n",
       "      <td>0.005869</td>\n",
       "      <td>0.170904</td>\n",
       "      <td>0.026860</td>\n",
       "      <td>0.015825</td>\n",
       "      <td>-0.366527</td>\n",
       "      <td>-0.346028</td>\n",
       "      <td>1.000000</td>\n",
       "      <td>...</td>\n",
       "      <td>0.000063</td>\n",
       "      <td>0.006394</td>\n",
       "      <td>-0.007099</td>\n",
       "      <td>-0.000309</td>\n",
       "      <td>0.000904</td>\n",
       "      <td>-0.000095</td>\n",
       "      <td>-0.015631</td>\n",
       "      <td>-0.005727</td>\n",
       "      <td>-0.034133</td>\n",
       "      <td>NaN</td>\n",
       "    </tr>\n",
       "    <tr>\n",
       "      <th>Pressure(in)</th>\n",
       "      <td>0.043883</td>\n",
       "      <td>-0.234889</td>\n",
       "      <td>0.208828</td>\n",
       "      <td>-0.234896</td>\n",
       "      <td>0.208830</td>\n",
       "      <td>-0.069115</td>\n",
       "      <td>-0.058449</td>\n",
       "      <td>0.137756</td>\n",
       "      <td>0.134312</td>\n",
       "      <td>0.138816</td>\n",
       "      <td>...</td>\n",
       "      <td>-0.000727</td>\n",
       "      <td>0.051646</td>\n",
       "      <td>-0.000781</td>\n",
       "      <td>0.015718</td>\n",
       "      <td>0.000742</td>\n",
       "      <td>0.040853</td>\n",
       "      <td>-0.015793</td>\n",
       "      <td>0.000232</td>\n",
       "      <td>0.015351</td>\n",
       "      <td>NaN</td>\n",
       "    </tr>\n",
       "    <tr>\n",
       "      <th>Visibility(mi)</th>\n",
       "      <td>0.007371</td>\n",
       "      <td>-0.086538</td>\n",
       "      <td>0.029336</td>\n",
       "      <td>-0.086532</td>\n",
       "      <td>0.029338</td>\n",
       "      <td>-0.034001</td>\n",
       "      <td>-0.018511</td>\n",
       "      <td>0.211134</td>\n",
       "      <td>0.217573</td>\n",
       "      <td>-0.363305</td>\n",
       "      <td>...</td>\n",
       "      <td>0.002445</td>\n",
       "      <td>-0.007694</td>\n",
       "      <td>0.007327</td>\n",
       "      <td>0.002338</td>\n",
       "      <td>0.000107</td>\n",
       "      <td>0.020449</td>\n",
       "      <td>0.002569</td>\n",
       "      <td>0.003880</td>\n",
       "      <td>0.030796</td>\n",
       "      <td>NaN</td>\n",
       "    </tr>\n",
       "    <tr>\n",
       "      <th>Wind_Speed(mph)</th>\n",
       "      <td>0.048382</td>\n",
       "      <td>0.029158</td>\n",
       "      <td>0.090564</td>\n",
       "      <td>0.029162</td>\n",
       "      <td>0.090567</td>\n",
       "      <td>0.011127</td>\n",
       "      <td>0.013933</td>\n",
       "      <td>0.078788</td>\n",
       "      <td>0.013011</td>\n",
       "      <td>-0.174100</td>\n",
       "      <td>...</td>\n",
       "      <td>0.002457</td>\n",
       "      <td>0.018484</td>\n",
       "      <td>0.002117</td>\n",
       "      <td>-0.000342</td>\n",
       "      <td>0.000217</td>\n",
       "      <td>0.016019</td>\n",
       "      <td>-0.006544</td>\n",
       "      <td>-0.000406</td>\n",
       "      <td>0.016800</td>\n",
       "      <td>NaN</td>\n",
       "    </tr>\n",
       "    <tr>\n",
       "      <th>Precipitation(in)</th>\n",
       "      <td>0.013845</td>\n",
       "      <td>-0.002835</td>\n",
       "      <td>0.024094</td>\n",
       "      <td>-0.002836</td>\n",
       "      <td>0.024094</td>\n",
       "      <td>0.003050</td>\n",
       "      <td>-0.000188</td>\n",
       "      <td>-0.004425</td>\n",
       "      <td>-0.008289</td>\n",
       "      <td>0.077663</td>\n",
       "      <td>...</td>\n",
       "      <td>-0.001313</td>\n",
       "      <td>0.014892</td>\n",
       "      <td>0.000341</td>\n",
       "      <td>-0.000027</td>\n",
       "      <td>-0.000003</td>\n",
       "      <td>-0.001453</td>\n",
       "      <td>-0.004493</td>\n",
       "      <td>-0.001228</td>\n",
       "      <td>-0.002458</td>\n",
       "      <td>NaN</td>\n",
       "    </tr>\n",
       "    <tr>\n",
       "      <th>Amenity</th>\n",
       "      <td>-0.003940</td>\n",
       "      <td>-0.005879</td>\n",
       "      <td>0.014923</td>\n",
       "      <td>-0.005878</td>\n",
       "      <td>0.014924</td>\n",
       "      <td>-0.032717</td>\n",
       "      <td>-0.032279</td>\n",
       "      <td>0.013420</td>\n",
       "      <td>0.016908</td>\n",
       "      <td>-0.005963</td>\n",
       "      <td>...</td>\n",
       "      <td>0.003297</td>\n",
       "      <td>-0.026413</td>\n",
       "      <td>0.013096</td>\n",
       "      <td>0.034372</td>\n",
       "      <td>0.000428</td>\n",
       "      <td>0.124395</td>\n",
       "      <td>0.027137</td>\n",
       "      <td>0.010624</td>\n",
       "      <td>0.090555</td>\n",
       "      <td>NaN</td>\n",
       "    </tr>\n",
       "    <tr>\n",
       "      <th>Bump</th>\n",
       "      <td>-0.003739</td>\n",
       "      <td>0.000338</td>\n",
       "      <td>-0.014867</td>\n",
       "      <td>0.000339</td>\n",
       "      <td>-0.014867</td>\n",
       "      <td>-0.005408</td>\n",
       "      <td>-0.003719</td>\n",
       "      <td>0.003967</td>\n",
       "      <td>0.005370</td>\n",
       "      <td>-0.007727</td>\n",
       "      <td>...</td>\n",
       "      <td>-0.000176</td>\n",
       "      <td>-0.001792</td>\n",
       "      <td>0.002610</td>\n",
       "      <td>0.006451</td>\n",
       "      <td>-0.000125</td>\n",
       "      <td>0.006027</td>\n",
       "      <td>0.019402</td>\n",
       "      <td>0.772162</td>\n",
       "      <td>-0.003714</td>\n",
       "      <td>NaN</td>\n",
       "    </tr>\n",
       "    <tr>\n",
       "      <th>Crossing</th>\n",
       "      <td>-0.035382</td>\n",
       "      <td>-0.094698</td>\n",
       "      <td>0.056169</td>\n",
       "      <td>-0.094703</td>\n",
       "      <td>0.056165</td>\n",
       "      <td>-0.091256</td>\n",
       "      <td>-0.054667</td>\n",
       "      <td>0.069728</td>\n",
       "      <td>0.077446</td>\n",
       "      <td>-0.030003</td>\n",
       "      <td>...</td>\n",
       "      <td>0.053507</td>\n",
       "      <td>-0.080214</td>\n",
       "      <td>0.042085</td>\n",
       "      <td>0.207132</td>\n",
       "      <td>-0.000764</td>\n",
       "      <td>0.144655</td>\n",
       "      <td>0.086878</td>\n",
       "      <td>0.026087</td>\n",
       "      <td>0.422232</td>\n",
       "      <td>NaN</td>\n",
       "    </tr>\n",
       "    <tr>\n",
       "      <th>Give_Way</th>\n",
       "      <td>0.008141</td>\n",
       "      <td>0.007851</td>\n",
       "      <td>0.018110</td>\n",
       "      <td>0.007840</td>\n",
       "      <td>0.018110</td>\n",
       "      <td>-0.006655</td>\n",
       "      <td>-0.003792</td>\n",
       "      <td>-0.005524</td>\n",
       "      <td>-0.007584</td>\n",
       "      <td>0.000063</td>\n",
       "      <td>...</td>\n",
       "      <td>1.000000</td>\n",
       "      <td>-0.007007</td>\n",
       "      <td>0.004176</td>\n",
       "      <td>0.003981</td>\n",
       "      <td>0.002945</td>\n",
       "      <td>-0.002163</td>\n",
       "      <td>0.047691</td>\n",
       "      <td>0.000253</td>\n",
       "      <td>0.056994</td>\n",
       "      <td>NaN</td>\n",
       "    </tr>\n",
       "    <tr>\n",
       "      <th>Junction</th>\n",
       "      <td>0.045928</td>\n",
       "      <td>0.043628</td>\n",
       "      <td>-0.017202</td>\n",
       "      <td>0.043621</td>\n",
       "      <td>-0.017199</td>\n",
       "      <td>0.022442</td>\n",
       "      <td>-0.010801</td>\n",
       "      <td>-0.020358</td>\n",
       "      <td>-0.048784</td>\n",
       "      <td>0.006394</td>\n",
       "      <td>...</td>\n",
       "      <td>-0.007007</td>\n",
       "      <td>1.000000</td>\n",
       "      <td>-0.003870</td>\n",
       "      <td>-0.010436</td>\n",
       "      <td>0.012083</td>\n",
       "      <td>-0.044455</td>\n",
       "      <td>-0.034977</td>\n",
       "      <td>-0.002262</td>\n",
       "      <td>-0.096142</td>\n",
       "      <td>NaN</td>\n",
       "    </tr>\n",
       "    <tr>\n",
       "      <th>No_Exit</th>\n",
       "      <td>-0.002359</td>\n",
       "      <td>-0.017348</td>\n",
       "      <td>0.006220</td>\n",
       "      <td>-0.017347</td>\n",
       "      <td>0.006220</td>\n",
       "      <td>-0.010184</td>\n",
       "      <td>-0.005052</td>\n",
       "      <td>0.011610</td>\n",
       "      <td>0.012066</td>\n",
       "      <td>-0.007099</td>\n",
       "      <td>...</td>\n",
       "      <td>0.004176</td>\n",
       "      <td>-0.003870</td>\n",
       "      <td>1.000000</td>\n",
       "      <td>0.002736</td>\n",
       "      <td>-0.000256</td>\n",
       "      <td>0.015199</td>\n",
       "      <td>0.011802</td>\n",
       "      <td>0.001631</td>\n",
       "      <td>0.023376</td>\n",
       "      <td>NaN</td>\n",
       "    </tr>\n",
       "    <tr>\n",
       "      <th>Railway</th>\n",
       "      <td>-0.001747</td>\n",
       "      <td>0.003184</td>\n",
       "      <td>-0.015450</td>\n",
       "      <td>0.003184</td>\n",
       "      <td>-0.015449</td>\n",
       "      <td>-0.021462</td>\n",
       "      <td>-0.013668</td>\n",
       "      <td>0.003108</td>\n",
       "      <td>0.005062</td>\n",
       "      <td>-0.000309</td>\n",
       "      <td>...</td>\n",
       "      <td>0.003981</td>\n",
       "      <td>-0.010436</td>\n",
       "      <td>0.002736</td>\n",
       "      <td>1.000000</td>\n",
       "      <td>-0.000589</td>\n",
       "      <td>0.109353</td>\n",
       "      <td>0.007893</td>\n",
       "      <td>0.005064</td>\n",
       "      <td>0.053727</td>\n",
       "      <td>NaN</td>\n",
       "    </tr>\n",
       "    <tr>\n",
       "      <th>Roundabout</th>\n",
       "      <td>-0.000773</td>\n",
       "      <td>-0.003366</td>\n",
       "      <td>0.000450</td>\n",
       "      <td>-0.003366</td>\n",
       "      <td>0.000450</td>\n",
       "      <td>-0.002491</td>\n",
       "      <td>-0.001360</td>\n",
       "      <td>0.002122</td>\n",
       "      <td>0.002466</td>\n",
       "      <td>0.000904</td>\n",
       "      <td>...</td>\n",
       "      <td>0.002945</td>\n",
       "      <td>0.012083</td>\n",
       "      <td>-0.000256</td>\n",
       "      <td>-0.000589</td>\n",
       "      <td>1.000000</td>\n",
       "      <td>0.000371</td>\n",
       "      <td>0.006412</td>\n",
       "      <td>0.002019</td>\n",
       "      <td>-0.002108</td>\n",
       "      <td>NaN</td>\n",
       "    </tr>\n",
       "    <tr>\n",
       "      <th>Station</th>\n",
       "      <td>-0.018017</td>\n",
       "      <td>-0.107697</td>\n",
       "      <td>0.038533</td>\n",
       "      <td>-0.107696</td>\n",
       "      <td>0.038533</td>\n",
       "      <td>-0.052826</td>\n",
       "      <td>-0.028485</td>\n",
       "      <td>0.061248</td>\n",
       "      <td>0.069379</td>\n",
       "      <td>-0.000095</td>\n",
       "      <td>...</td>\n",
       "      <td>-0.002163</td>\n",
       "      <td>-0.044455</td>\n",
       "      <td>0.015199</td>\n",
       "      <td>0.109353</td>\n",
       "      <td>0.000371</td>\n",
       "      <td>1.000000</td>\n",
       "      <td>0.027295</td>\n",
       "      <td>0.009768</td>\n",
       "      <td>0.112593</td>\n",
       "      <td>NaN</td>\n",
       "    </tr>\n",
       "    <tr>\n",
       "      <th>Stop</th>\n",
       "      <td>-0.002536</td>\n",
       "      <td>0.010817</td>\n",
       "      <td>-0.040265</td>\n",
       "      <td>0.010827</td>\n",
       "      <td>-0.040264</td>\n",
       "      <td>-0.027108</td>\n",
       "      <td>-0.003688</td>\n",
       "      <td>0.000021</td>\n",
       "      <td>0.005424</td>\n",
       "      <td>-0.015631</td>\n",
       "      <td>...</td>\n",
       "      <td>0.047691</td>\n",
       "      <td>-0.034977</td>\n",
       "      <td>0.011802</td>\n",
       "      <td>0.007893</td>\n",
       "      <td>0.006412</td>\n",
       "      <td>0.027295</td>\n",
       "      <td>1.000000</td>\n",
       "      <td>0.017349</td>\n",
       "      <td>-0.028258</td>\n",
       "      <td>NaN</td>\n",
       "    </tr>\n",
       "    <tr>\n",
       "      <th>Traffic_Calming</th>\n",
       "      <td>-0.003009</td>\n",
       "      <td>-0.003164</td>\n",
       "      <td>-0.007750</td>\n",
       "      <td>-0.003163</td>\n",
       "      <td>-0.007750</td>\n",
       "      <td>-0.007322</td>\n",
       "      <td>-0.005075</td>\n",
       "      <td>0.005672</td>\n",
       "      <td>0.007140</td>\n",
       "      <td>-0.005727</td>\n",
       "      <td>...</td>\n",
       "      <td>0.000253</td>\n",
       "      <td>-0.002262</td>\n",
       "      <td>0.001631</td>\n",
       "      <td>0.005064</td>\n",
       "      <td>0.002019</td>\n",
       "      <td>0.009768</td>\n",
       "      <td>0.017349</td>\n",
       "      <td>1.000000</td>\n",
       "      <td>0.008646</td>\n",
       "      <td>NaN</td>\n",
       "    </tr>\n",
       "    <tr>\n",
       "      <th>Traffic_Signal</th>\n",
       "      <td>-0.012798</td>\n",
       "      <td>-0.058208</td>\n",
       "      <td>0.059568</td>\n",
       "      <td>-0.058210</td>\n",
       "      <td>0.059566</td>\n",
       "      <td>-0.105722</td>\n",
       "      <td>-0.058870</td>\n",
       "      <td>0.047657</td>\n",
       "      <td>0.048321</td>\n",
       "      <td>-0.034133</td>\n",
       "      <td>...</td>\n",
       "      <td>0.056994</td>\n",
       "      <td>-0.096142</td>\n",
       "      <td>0.023376</td>\n",
       "      <td>0.053727</td>\n",
       "      <td>-0.002108</td>\n",
       "      <td>0.112593</td>\n",
       "      <td>-0.028258</td>\n",
       "      <td>0.008646</td>\n",
       "      <td>1.000000</td>\n",
       "      <td>NaN</td>\n",
       "    </tr>\n",
       "    <tr>\n",
       "      <th>Turning_Loop</th>\n",
       "      <td>NaN</td>\n",
       "      <td>NaN</td>\n",
       "      <td>NaN</td>\n",
       "      <td>NaN</td>\n",
       "      <td>NaN</td>\n",
       "      <td>NaN</td>\n",
       "      <td>NaN</td>\n",
       "      <td>NaN</td>\n",
       "      <td>NaN</td>\n",
       "      <td>NaN</td>\n",
       "      <td>...</td>\n",
       "      <td>NaN</td>\n",
       "      <td>NaN</td>\n",
       "      <td>NaN</td>\n",
       "      <td>NaN</td>\n",
       "      <td>NaN</td>\n",
       "      <td>NaN</td>\n",
       "      <td>NaN</td>\n",
       "      <td>NaN</td>\n",
       "      <td>NaN</td>\n",
       "      <td>NaN</td>\n",
       "    </tr>\n",
       "  </tbody>\n",
       "</table>\n",
       "<p>27 rows × 27 columns</p>\n",
       "</div>"
      ],
      "text/plain": [
       "                   Severity  Start_Lat  Start_Lng   End_Lat   End_Lng  \\\n",
       "Severity           1.000000   0.089207   0.114063  0.089209  0.114064   \n",
       "Start_Lat          0.089207   1.000000  -0.154965  0.999995 -0.154962   \n",
       "Start_Lng          0.114063  -0.154965   1.000000 -0.154956  0.999999   \n",
       "End_Lat            0.089209   0.999995  -0.154956  1.000000 -0.154953   \n",
       "End_Lng            0.114064  -0.154962   0.999999 -0.154953  1.000000   \n",
       "Distance(mi)       0.092140   0.071588   0.039861  0.071593  0.039830   \n",
       "Number            -0.000689   0.101281  -0.170566  0.101270 -0.170563   \n",
       "Temperature(F)    -0.045335  -0.475065   0.032159 -0.475058  0.032163   \n",
       "Wind_Chill(F)     -0.097459  -0.505567   0.010849 -0.505561  0.010852   \n",
       "Humidity(%)        0.037802   0.005876   0.170909  0.005869  0.170904   \n",
       "Pressure(in)       0.043883  -0.234889   0.208828 -0.234896  0.208830   \n",
       "Visibility(mi)     0.007371  -0.086538   0.029336 -0.086532  0.029338   \n",
       "Wind_Speed(mph)    0.048382   0.029158   0.090564  0.029162  0.090567   \n",
       "Precipitation(in)  0.013845  -0.002835   0.024094 -0.002836  0.024094   \n",
       "Amenity           -0.003940  -0.005879   0.014923 -0.005878  0.014924   \n",
       "Bump              -0.003739   0.000338  -0.014867  0.000339 -0.014867   \n",
       "Crossing          -0.035382  -0.094698   0.056169 -0.094703  0.056165   \n",
       "Give_Way           0.008141   0.007851   0.018110  0.007840  0.018110   \n",
       "Junction           0.045928   0.043628  -0.017202  0.043621 -0.017199   \n",
       "No_Exit           -0.002359  -0.017348   0.006220 -0.017347  0.006220   \n",
       "Railway           -0.001747   0.003184  -0.015450  0.003184 -0.015449   \n",
       "Roundabout        -0.000773  -0.003366   0.000450 -0.003366  0.000450   \n",
       "Station           -0.018017  -0.107697   0.038533 -0.107696  0.038533   \n",
       "Stop              -0.002536   0.010817  -0.040265  0.010827 -0.040264   \n",
       "Traffic_Calming   -0.003009  -0.003164  -0.007750 -0.003163 -0.007750   \n",
       "Traffic_Signal    -0.012798  -0.058208   0.059568 -0.058210  0.059566   \n",
       "Turning_Loop            NaN        NaN        NaN       NaN       NaN   \n",
       "\n",
       "                   Distance(mi)    Number  Temperature(F)  Wind_Chill(F)  \\\n",
       "Severity               0.092140 -0.000689       -0.045335      -0.097459   \n",
       "Start_Lat              0.071588  0.101281       -0.475065      -0.505567   \n",
       "Start_Lng              0.039861 -0.170566        0.032159       0.010849   \n",
       "End_Lat                0.071593  0.101270       -0.475058      -0.505561   \n",
       "End_Lng                0.039830 -0.170563        0.032163       0.010852   \n",
       "Distance(mi)           1.000000  0.067331       -0.051212      -0.060094   \n",
       "Number                 0.067331  1.000000       -0.051146      -0.049400   \n",
       "Temperature(F)        -0.051212 -0.051146        1.000000       0.993857   \n",
       "Wind_Chill(F)         -0.060094 -0.049400        0.993857       1.000000   \n",
       "Humidity(%)            0.026860  0.015825       -0.366527      -0.346028   \n",
       "Pressure(in)          -0.069115 -0.058449        0.137756       0.134312   \n",
       "Visibility(mi)        -0.034001 -0.018511        0.211134       0.217573   \n",
       "Wind_Speed(mph)        0.011127  0.013933        0.078788       0.013011   \n",
       "Precipitation(in)      0.003050 -0.000188       -0.004425      -0.008289   \n",
       "Amenity               -0.032717 -0.032279        0.013420       0.016908   \n",
       "Bump                  -0.005408 -0.003719        0.003967       0.005370   \n",
       "Crossing              -0.091256 -0.054667        0.069728       0.077446   \n",
       "Give_Way              -0.006655 -0.003792       -0.005524      -0.007584   \n",
       "Junction               0.022442 -0.010801       -0.020358      -0.048784   \n",
       "No_Exit               -0.010184 -0.005052        0.011610       0.012066   \n",
       "Railway               -0.021462 -0.013668        0.003108       0.005062   \n",
       "Roundabout            -0.002491 -0.001360        0.002122       0.002466   \n",
       "Station               -0.052826 -0.028485        0.061248       0.069379   \n",
       "Stop                  -0.027108 -0.003688        0.000021       0.005424   \n",
       "Traffic_Calming       -0.007322 -0.005075        0.005672       0.007140   \n",
       "Traffic_Signal        -0.105722 -0.058870        0.047657       0.048321   \n",
       "Turning_Loop                NaN       NaN             NaN            NaN   \n",
       "\n",
       "                   Humidity(%)  ...  Give_Way  Junction   No_Exit   Railway  \\\n",
       "Severity              0.037802  ...  0.008141  0.045928 -0.002359 -0.001747   \n",
       "Start_Lat             0.005876  ...  0.007851  0.043628 -0.017348  0.003184   \n",
       "Start_Lng             0.170909  ...  0.018110 -0.017202  0.006220 -0.015450   \n",
       "End_Lat               0.005869  ...  0.007840  0.043621 -0.017347  0.003184   \n",
       "End_Lng               0.170904  ...  0.018110 -0.017199  0.006220 -0.015449   \n",
       "Distance(mi)          0.026860  ... -0.006655  0.022442 -0.010184 -0.021462   \n",
       "Number                0.015825  ... -0.003792 -0.010801 -0.005052 -0.013668   \n",
       "Temperature(F)       -0.366527  ... -0.005524 -0.020358  0.011610  0.003108   \n",
       "Wind_Chill(F)        -0.346028  ... -0.007584 -0.048784  0.012066  0.005062   \n",
       "Humidity(%)           1.000000  ...  0.000063  0.006394 -0.007099 -0.000309   \n",
       "Pressure(in)          0.138816  ... -0.000727  0.051646 -0.000781  0.015718   \n",
       "Visibility(mi)       -0.363305  ...  0.002445 -0.007694  0.007327  0.002338   \n",
       "Wind_Speed(mph)      -0.174100  ...  0.002457  0.018484  0.002117 -0.000342   \n",
       "Precipitation(in)     0.077663  ... -0.001313  0.014892  0.000341 -0.000027   \n",
       "Amenity              -0.005963  ...  0.003297 -0.026413  0.013096  0.034372   \n",
       "Bump                 -0.007727  ... -0.000176 -0.001792  0.002610  0.006451   \n",
       "Crossing             -0.030003  ...  0.053507 -0.080214  0.042085  0.207132   \n",
       "Give_Way              0.000063  ...  1.000000 -0.007007  0.004176  0.003981   \n",
       "Junction              0.006394  ... -0.007007  1.000000 -0.003870 -0.010436   \n",
       "No_Exit              -0.007099  ...  0.004176 -0.003870  1.000000  0.002736   \n",
       "Railway              -0.000309  ...  0.003981 -0.010436  0.002736  1.000000   \n",
       "Roundabout            0.000904  ...  0.002945  0.012083 -0.000256 -0.000589   \n",
       "Station              -0.000095  ... -0.002163 -0.044455  0.015199  0.109353   \n",
       "Stop                 -0.015631  ...  0.047691 -0.034977  0.011802  0.007893   \n",
       "Traffic_Calming      -0.005727  ...  0.000253 -0.002262  0.001631  0.005064   \n",
       "Traffic_Signal       -0.034133  ...  0.056994 -0.096142  0.023376  0.053727   \n",
       "Turning_Loop               NaN  ...       NaN       NaN       NaN       NaN   \n",
       "\n",
       "                   Roundabout   Station      Stop  Traffic_Calming  \\\n",
       "Severity            -0.000773 -0.018017 -0.002536        -0.003009   \n",
       "Start_Lat           -0.003366 -0.107697  0.010817        -0.003164   \n",
       "Start_Lng            0.000450  0.038533 -0.040265        -0.007750   \n",
       "End_Lat             -0.003366 -0.107696  0.010827        -0.003163   \n",
       "End_Lng              0.000450  0.038533 -0.040264        -0.007750   \n",
       "Distance(mi)        -0.002491 -0.052826 -0.027108        -0.007322   \n",
       "Number              -0.001360 -0.028485 -0.003688        -0.005075   \n",
       "Temperature(F)       0.002122  0.061248  0.000021         0.005672   \n",
       "Wind_Chill(F)        0.002466  0.069379  0.005424         0.007140   \n",
       "Humidity(%)          0.000904 -0.000095 -0.015631        -0.005727   \n",
       "Pressure(in)         0.000742  0.040853 -0.015793         0.000232   \n",
       "Visibility(mi)       0.000107  0.020449  0.002569         0.003880   \n",
       "Wind_Speed(mph)      0.000217  0.016019 -0.006544        -0.000406   \n",
       "Precipitation(in)   -0.000003 -0.001453 -0.004493        -0.001228   \n",
       "Amenity              0.000428  0.124395  0.027137         0.010624   \n",
       "Bump                -0.000125  0.006027  0.019402         0.772162   \n",
       "Crossing            -0.000764  0.144655  0.086878         0.026087   \n",
       "Give_Way             0.002945 -0.002163  0.047691         0.000253   \n",
       "Junction             0.012083 -0.044455 -0.034977        -0.002262   \n",
       "No_Exit             -0.000256  0.015199  0.011802         0.001631   \n",
       "Railway             -0.000589  0.109353  0.007893         0.005064   \n",
       "Roundabout           1.000000  0.000371  0.006412         0.002019   \n",
       "Station              0.000371  1.000000  0.027295         0.009768   \n",
       "Stop                 0.006412  0.027295  1.000000         0.017349   \n",
       "Traffic_Calming      0.002019  0.009768  0.017349         1.000000   \n",
       "Traffic_Signal      -0.002108  0.112593 -0.028258         0.008646   \n",
       "Turning_Loop              NaN       NaN       NaN              NaN   \n",
       "\n",
       "                   Traffic_Signal  Turning_Loop  \n",
       "Severity                -0.012798           NaN  \n",
       "Start_Lat               -0.058208           NaN  \n",
       "Start_Lng                0.059568           NaN  \n",
       "End_Lat                 -0.058210           NaN  \n",
       "End_Lng                  0.059566           NaN  \n",
       "Distance(mi)            -0.105722           NaN  \n",
       "Number                  -0.058870           NaN  \n",
       "Temperature(F)           0.047657           NaN  \n",
       "Wind_Chill(F)            0.048321           NaN  \n",
       "Humidity(%)             -0.034133           NaN  \n",
       "Pressure(in)             0.015351           NaN  \n",
       "Visibility(mi)           0.030796           NaN  \n",
       "Wind_Speed(mph)          0.016800           NaN  \n",
       "Precipitation(in)       -0.002458           NaN  \n",
       "Amenity                  0.090555           NaN  \n",
       "Bump                    -0.003714           NaN  \n",
       "Crossing                 0.422232           NaN  \n",
       "Give_Way                 0.056994           NaN  \n",
       "Junction                -0.096142           NaN  \n",
       "No_Exit                  0.023376           NaN  \n",
       "Railway                  0.053727           NaN  \n",
       "Roundabout              -0.002108           NaN  \n",
       "Station                  0.112593           NaN  \n",
       "Stop                    -0.028258           NaN  \n",
       "Traffic_Calming          0.008646           NaN  \n",
       "Traffic_Signal           1.000000           NaN  \n",
       "Turning_Loop                  NaN           NaN  \n",
       "\n",
       "[27 rows x 27 columns]"
      ]
     },
     "execution_count": 7,
     "metadata": {},
     "output_type": "execute_result"
    }
   ],
   "source": [
    "df.corr()"
   ]
  },
  {
   "cell_type": "code",
   "execution_count": 8,
   "id": "dcd2aeea",
   "metadata": {},
   "outputs": [
    {
     "name": "stdout",
     "output_type": "stream",
     "text": [
      "<class 'pandas.core.frame.DataFrame'>\n",
      "RangeIndex: 2845342 entries, 0 to 2845341\n",
      "Data columns (total 47 columns):\n",
      " #   Column                 Dtype  \n",
      "---  ------                 -----  \n",
      " 0   ID                     object \n",
      " 1   Severity               int64  \n",
      " 2   Start_Time             object \n",
      " 3   End_Time               object \n",
      " 4   Start_Lat              float64\n",
      " 5   Start_Lng              float64\n",
      " 6   End_Lat                float64\n",
      " 7   End_Lng                float64\n",
      " 8   Distance(mi)           float64\n",
      " 9   Description            object \n",
      " 10  Number                 float64\n",
      " 11  Street                 object \n",
      " 12  Side                   object \n",
      " 13  City                   object \n",
      " 14  County                 object \n",
      " 15  State                  object \n",
      " 16  Zipcode                object \n",
      " 17  Country                object \n",
      " 18  Timezone               object \n",
      " 19  Airport_Code           object \n",
      " 20  Weather_Timestamp      object \n",
      " 21  Temperature(F)         float64\n",
      " 22  Wind_Chill(F)          float64\n",
      " 23  Humidity(%)            float64\n",
      " 24  Pressure(in)           float64\n",
      " 25  Visibility(mi)         float64\n",
      " 26  Wind_Direction         object \n",
      " 27  Wind_Speed(mph)        float64\n",
      " 28  Precipitation(in)      float64\n",
      " 29  Weather_Condition      object \n",
      " 30  Amenity                bool   \n",
      " 31  Bump                   bool   \n",
      " 32  Crossing               bool   \n",
      " 33  Give_Way               bool   \n",
      " 34  Junction               bool   \n",
      " 35  No_Exit                bool   \n",
      " 36  Railway                bool   \n",
      " 37  Roundabout             bool   \n",
      " 38  Station                bool   \n",
      " 39  Stop                   bool   \n",
      " 40  Traffic_Calming        bool   \n",
      " 41  Traffic_Signal         bool   \n",
      " 42  Turning_Loop           bool   \n",
      " 43  Sunrise_Sunset         object \n",
      " 44  Civil_Twilight         object \n",
      " 45  Nautical_Twilight      object \n",
      " 46  Astronomical_Twilight  object \n",
      "dtypes: bool(13), float64(13), int64(1), object(20)\n",
      "memory usage: 773.4+ MB\n"
     ]
    }
   ],
   "source": [
    "# let us check what kind of data is available on the dataset.\n",
    "df.info()"
   ]
  },
  {
   "cell_type": "code",
   "execution_count": 9,
   "id": "acc42df1",
   "metadata": {},
   "outputs": [
    {
     "data": {
      "text/html": [
       "<div>\n",
       "<style scoped>\n",
       "    .dataframe tbody tr th:only-of-type {\n",
       "        vertical-align: middle;\n",
       "    }\n",
       "\n",
       "    .dataframe tbody tr th {\n",
       "        vertical-align: top;\n",
       "    }\n",
       "\n",
       "    .dataframe thead th {\n",
       "        text-align: right;\n",
       "    }\n",
       "</style>\n",
       "<table border=\"1\" class=\"dataframe\">\n",
       "  <thead>\n",
       "    <tr style=\"text-align: right;\">\n",
       "      <th></th>\n",
       "      <th>Severity</th>\n",
       "      <th>Start_Lat</th>\n",
       "      <th>Start_Lng</th>\n",
       "      <th>End_Lat</th>\n",
       "      <th>End_Lng</th>\n",
       "      <th>Distance(mi)</th>\n",
       "      <th>Number</th>\n",
       "      <th>Temperature(F)</th>\n",
       "      <th>Wind_Chill(F)</th>\n",
       "      <th>Humidity(%)</th>\n",
       "      <th>Pressure(in)</th>\n",
       "      <th>Visibility(mi)</th>\n",
       "      <th>Wind_Speed(mph)</th>\n",
       "      <th>Precipitation(in)</th>\n",
       "    </tr>\n",
       "  </thead>\n",
       "  <tbody>\n",
       "    <tr>\n",
       "      <th>0</th>\n",
       "      <td>3</td>\n",
       "      <td>40.108910</td>\n",
       "      <td>-83.092860</td>\n",
       "      <td>40.112060</td>\n",
       "      <td>-83.031870</td>\n",
       "      <td>3.230</td>\n",
       "      <td>NaN</td>\n",
       "      <td>42.1</td>\n",
       "      <td>36.1</td>\n",
       "      <td>58.0</td>\n",
       "      <td>29.76</td>\n",
       "      <td>10.0</td>\n",
       "      <td>10.4</td>\n",
       "      <td>0.00</td>\n",
       "    </tr>\n",
       "    <tr>\n",
       "      <th>1</th>\n",
       "      <td>2</td>\n",
       "      <td>39.865420</td>\n",
       "      <td>-84.062800</td>\n",
       "      <td>39.865010</td>\n",
       "      <td>-84.048730</td>\n",
       "      <td>0.747</td>\n",
       "      <td>NaN</td>\n",
       "      <td>36.9</td>\n",
       "      <td>NaN</td>\n",
       "      <td>91.0</td>\n",
       "      <td>29.68</td>\n",
       "      <td>10.0</td>\n",
       "      <td>NaN</td>\n",
       "      <td>0.02</td>\n",
       "    </tr>\n",
       "    <tr>\n",
       "      <th>2</th>\n",
       "      <td>2</td>\n",
       "      <td>39.102660</td>\n",
       "      <td>-84.524680</td>\n",
       "      <td>39.102090</td>\n",
       "      <td>-84.523960</td>\n",
       "      <td>0.055</td>\n",
       "      <td>NaN</td>\n",
       "      <td>36.0</td>\n",
       "      <td>NaN</td>\n",
       "      <td>97.0</td>\n",
       "      <td>29.70</td>\n",
       "      <td>10.0</td>\n",
       "      <td>NaN</td>\n",
       "      <td>0.02</td>\n",
       "    </tr>\n",
       "    <tr>\n",
       "      <th>3</th>\n",
       "      <td>2</td>\n",
       "      <td>41.062130</td>\n",
       "      <td>-81.537840</td>\n",
       "      <td>41.062170</td>\n",
       "      <td>-81.535470</td>\n",
       "      <td>0.123</td>\n",
       "      <td>NaN</td>\n",
       "      <td>39.0</td>\n",
       "      <td>NaN</td>\n",
       "      <td>55.0</td>\n",
       "      <td>29.65</td>\n",
       "      <td>10.0</td>\n",
       "      <td>NaN</td>\n",
       "      <td>NaN</td>\n",
       "    </tr>\n",
       "    <tr>\n",
       "      <th>4</th>\n",
       "      <td>3</td>\n",
       "      <td>39.172393</td>\n",
       "      <td>-84.492792</td>\n",
       "      <td>39.170476</td>\n",
       "      <td>-84.501798</td>\n",
       "      <td>0.500</td>\n",
       "      <td>NaN</td>\n",
       "      <td>37.0</td>\n",
       "      <td>29.8</td>\n",
       "      <td>93.0</td>\n",
       "      <td>29.69</td>\n",
       "      <td>10.0</td>\n",
       "      <td>10.4</td>\n",
       "      <td>0.01</td>\n",
       "    </tr>\n",
       "    <tr>\n",
       "      <th>...</th>\n",
       "      <td>...</td>\n",
       "      <td>...</td>\n",
       "      <td>...</td>\n",
       "      <td>...</td>\n",
       "      <td>...</td>\n",
       "      <td>...</td>\n",
       "      <td>...</td>\n",
       "      <td>...</td>\n",
       "      <td>...</td>\n",
       "      <td>...</td>\n",
       "      <td>...</td>\n",
       "      <td>...</td>\n",
       "      <td>...</td>\n",
       "      <td>...</td>\n",
       "    </tr>\n",
       "    <tr>\n",
       "      <th>2845337</th>\n",
       "      <td>2</td>\n",
       "      <td>34.002480</td>\n",
       "      <td>-117.379360</td>\n",
       "      <td>33.998880</td>\n",
       "      <td>-117.370940</td>\n",
       "      <td>0.543</td>\n",
       "      <td>NaN</td>\n",
       "      <td>86.0</td>\n",
       "      <td>86.0</td>\n",
       "      <td>40.0</td>\n",
       "      <td>28.92</td>\n",
       "      <td>10.0</td>\n",
       "      <td>13.0</td>\n",
       "      <td>0.00</td>\n",
       "    </tr>\n",
       "    <tr>\n",
       "      <th>2845338</th>\n",
       "      <td>2</td>\n",
       "      <td>32.766960</td>\n",
       "      <td>-117.148060</td>\n",
       "      <td>32.765550</td>\n",
       "      <td>-117.153630</td>\n",
       "      <td>0.338</td>\n",
       "      <td>NaN</td>\n",
       "      <td>70.0</td>\n",
       "      <td>70.0</td>\n",
       "      <td>73.0</td>\n",
       "      <td>29.39</td>\n",
       "      <td>10.0</td>\n",
       "      <td>6.0</td>\n",
       "      <td>0.00</td>\n",
       "    </tr>\n",
       "    <tr>\n",
       "      <th>2845339</th>\n",
       "      <td>2</td>\n",
       "      <td>33.775450</td>\n",
       "      <td>-117.847790</td>\n",
       "      <td>33.777400</td>\n",
       "      <td>-117.857270</td>\n",
       "      <td>0.561</td>\n",
       "      <td>NaN</td>\n",
       "      <td>73.0</td>\n",
       "      <td>73.0</td>\n",
       "      <td>64.0</td>\n",
       "      <td>29.74</td>\n",
       "      <td>10.0</td>\n",
       "      <td>10.0</td>\n",
       "      <td>0.00</td>\n",
       "    </tr>\n",
       "    <tr>\n",
       "      <th>2845340</th>\n",
       "      <td>2</td>\n",
       "      <td>33.992460</td>\n",
       "      <td>-118.403020</td>\n",
       "      <td>33.983110</td>\n",
       "      <td>-118.395650</td>\n",
       "      <td>0.772</td>\n",
       "      <td>NaN</td>\n",
       "      <td>71.0</td>\n",
       "      <td>71.0</td>\n",
       "      <td>81.0</td>\n",
       "      <td>29.62</td>\n",
       "      <td>10.0</td>\n",
       "      <td>8.0</td>\n",
       "      <td>0.00</td>\n",
       "    </tr>\n",
       "    <tr>\n",
       "      <th>2845341</th>\n",
       "      <td>2</td>\n",
       "      <td>34.133930</td>\n",
       "      <td>-117.230920</td>\n",
       "      <td>34.137360</td>\n",
       "      <td>-117.239340</td>\n",
       "      <td>0.537</td>\n",
       "      <td>NaN</td>\n",
       "      <td>79.0</td>\n",
       "      <td>79.0</td>\n",
       "      <td>47.0</td>\n",
       "      <td>28.63</td>\n",
       "      <td>7.0</td>\n",
       "      <td>7.0</td>\n",
       "      <td>0.00</td>\n",
       "    </tr>\n",
       "  </tbody>\n",
       "</table>\n",
       "<p>2845342 rows × 14 columns</p>\n",
       "</div>"
      ],
      "text/plain": [
       "         Severity  Start_Lat   Start_Lng    End_Lat     End_Lng  Distance(mi)  \\\n",
       "0               3  40.108910  -83.092860  40.112060  -83.031870         3.230   \n",
       "1               2  39.865420  -84.062800  39.865010  -84.048730         0.747   \n",
       "2               2  39.102660  -84.524680  39.102090  -84.523960         0.055   \n",
       "3               2  41.062130  -81.537840  41.062170  -81.535470         0.123   \n",
       "4               3  39.172393  -84.492792  39.170476  -84.501798         0.500   \n",
       "...           ...        ...         ...        ...         ...           ...   \n",
       "2845337         2  34.002480 -117.379360  33.998880 -117.370940         0.543   \n",
       "2845338         2  32.766960 -117.148060  32.765550 -117.153630         0.338   \n",
       "2845339         2  33.775450 -117.847790  33.777400 -117.857270         0.561   \n",
       "2845340         2  33.992460 -118.403020  33.983110 -118.395650         0.772   \n",
       "2845341         2  34.133930 -117.230920  34.137360 -117.239340         0.537   \n",
       "\n",
       "         Number  Temperature(F)  Wind_Chill(F)  Humidity(%)  Pressure(in)  \\\n",
       "0           NaN            42.1           36.1         58.0         29.76   \n",
       "1           NaN            36.9            NaN         91.0         29.68   \n",
       "2           NaN            36.0            NaN         97.0         29.70   \n",
       "3           NaN            39.0            NaN         55.0         29.65   \n",
       "4           NaN            37.0           29.8         93.0         29.69   \n",
       "...         ...             ...            ...          ...           ...   \n",
       "2845337     NaN            86.0           86.0         40.0         28.92   \n",
       "2845338     NaN            70.0           70.0         73.0         29.39   \n",
       "2845339     NaN            73.0           73.0         64.0         29.74   \n",
       "2845340     NaN            71.0           71.0         81.0         29.62   \n",
       "2845341     NaN            79.0           79.0         47.0         28.63   \n",
       "\n",
       "         Visibility(mi)  Wind_Speed(mph)  Precipitation(in)  \n",
       "0                  10.0             10.4               0.00  \n",
       "1                  10.0              NaN               0.02  \n",
       "2                  10.0              NaN               0.02  \n",
       "3                  10.0              NaN                NaN  \n",
       "4                  10.0             10.4               0.01  \n",
       "...                 ...              ...                ...  \n",
       "2845337            10.0             13.0               0.00  \n",
       "2845338            10.0              6.0               0.00  \n",
       "2845339            10.0             10.0               0.00  \n",
       "2845340            10.0              8.0               0.00  \n",
       "2845341             7.0              7.0               0.00  \n",
       "\n",
       "[2845342 rows x 14 columns]"
      ]
     },
     "execution_count": 9,
     "metadata": {},
     "output_type": "execute_result"
    }
   ],
   "source": [
    "#  let's count numerical col in the data.\n",
    "numerical = ['int16','int32','int64','float16','float32','float64']\n",
    "numerical_df = df.select_dtypes(include = numerical )\n",
    "numerical_df"
   ]
  },
  {
   "cell_type": "code",
   "execution_count": 10,
   "id": "476f7baf",
   "metadata": {},
   "outputs": [
    {
     "data": {
      "text/plain": [
       "2845342"
      ]
     },
     "execution_count": 10,
     "metadata": {},
     "output_type": "execute_result"
    }
   ],
   "source": [
    "len(numerical_df)"
   ]
  },
  {
   "cell_type": "code",
   "execution_count": 11,
   "id": "8722a3ee",
   "metadata": {},
   "outputs": [
    {
     "data": {
      "text/plain": [
       "2845342"
      ]
     },
     "execution_count": 11,
     "metadata": {},
     "output_type": "execute_result"
    }
   ],
   "source": [
    "len(df)"
   ]
  },
  {
   "cell_type": "markdown",
   "id": "21923f14",
   "metadata": {},
   "source": [
    "# Checking the null values in the data"
   ]
  },
  {
   "cell_type": "code",
   "execution_count": 12,
   "id": "bf187576",
   "metadata": {},
   "outputs": [
    {
     "data": {
      "text/plain": [
       "ID                             0\n",
       "Severity                       0\n",
       "Start_Time                     0\n",
       "End_Time                       0\n",
       "Start_Lat                      0\n",
       "Start_Lng                      0\n",
       "End_Lat                        0\n",
       "End_Lng                        0\n",
       "Distance(mi)                   0\n",
       "Description                    0\n",
       "Number                   1743911\n",
       "Street                         2\n",
       "Side                           0\n",
       "City                         137\n",
       "County                         0\n",
       "State                          0\n",
       "Zipcode                     1319\n",
       "Country                        0\n",
       "Timezone                    3659\n",
       "Airport_Code                9549\n",
       "Weather_Timestamp          50736\n",
       "Temperature(F)             69274\n",
       "Wind_Chill(F)             469643\n",
       "Humidity(%)                73092\n",
       "Pressure(in)               59200\n",
       "Visibility(mi)             70546\n",
       "Wind_Direction             73775\n",
       "Wind_Speed(mph)           157944\n",
       "Precipitation(in)         549458\n",
       "Weather_Condition          70636\n",
       "Amenity                        0\n",
       "Bump                           0\n",
       "Crossing                       0\n",
       "Give_Way                       0\n",
       "Junction                       0\n",
       "No_Exit                        0\n",
       "Railway                        0\n",
       "Roundabout                     0\n",
       "Station                        0\n",
       "Stop                           0\n",
       "Traffic_Calming                0\n",
       "Traffic_Signal                 0\n",
       "Turning_Loop                   0\n",
       "Sunrise_Sunset              2867\n",
       "Civil_Twilight              2867\n",
       "Nautical_Twilight           2867\n",
       "Astronomical_Twilight       2867\n",
       "dtype: int64"
      ]
     },
     "execution_count": 12,
     "metadata": {},
     "output_type": "execute_result"
    }
   ],
   "source": [
    "df.isnull().sum()"
   ]
  },
  {
   "cell_type": "code",
   "execution_count": 13,
   "id": "ecb513b5",
   "metadata": {},
   "outputs": [
    {
     "data": {
      "text/plain": [
       "3414349"
      ]
     },
     "execution_count": 13,
     "metadata": {},
     "output_type": "execute_result"
    }
   ],
   "source": [
    "df.isnull().sum().sum()"
   ]
  },
  {
   "cell_type": "markdown",
   "id": "d3e6f9ca",
   "metadata": {},
   "source": [
    "# Percentage of missing value per col."
   ]
  },
  {
   "cell_type": "code",
   "execution_count": 14,
   "id": "12bdbdab",
   "metadata": {},
   "outputs": [
    {
     "data": {
      "text/plain": [
       "3414349"
      ]
     },
     "execution_count": 14,
     "metadata": {},
     "output_type": "execute_result"
    }
   ],
   "source": [
    "df.isnull().sum().sum()"
   ]
  },
  {
   "cell_type": "code",
   "execution_count": 15,
   "id": "1ab84dd5",
   "metadata": {},
   "outputs": [
    {
     "data": {
      "text/plain": [
       "Number                   1743911\n",
       "Precipitation(in)         549458\n",
       "Wind_Chill(F)             469643\n",
       "Wind_Speed(mph)           157944\n",
       "Wind_Direction             73775\n",
       "Humidity(%)                73092\n",
       "Weather_Condition          70636\n",
       "Visibility(mi)             70546\n",
       "Temperature(F)             69274\n",
       "Pressure(in)               59200\n",
       "Weather_Timestamp          50736\n",
       "Airport_Code                9549\n",
       "Timezone                    3659\n",
       "Nautical_Twilight           2867\n",
       "Civil_Twilight              2867\n",
       "Sunrise_Sunset              2867\n",
       "Astronomical_Twilight       2867\n",
       "Zipcode                     1319\n",
       "City                         137\n",
       "Street                         2\n",
       "Country                        0\n",
       "Junction                       0\n",
       "Start_Time                     0\n",
       "End_Time                       0\n",
       "Start_Lat                      0\n",
       "Turning_Loop                   0\n",
       "Traffic_Signal                 0\n",
       "Traffic_Calming                0\n",
       "Stop                           0\n",
       "Station                        0\n",
       "Roundabout                     0\n",
       "Railway                        0\n",
       "No_Exit                        0\n",
       "Crossing                       0\n",
       "Give_Way                       0\n",
       "Bump                           0\n",
       "Amenity                        0\n",
       "Start_Lng                      0\n",
       "End_Lat                        0\n",
       "End_Lng                        0\n",
       "Distance(mi)                   0\n",
       "Description                    0\n",
       "Severity                       0\n",
       "Side                           0\n",
       "County                         0\n",
       "State                          0\n",
       "ID                             0\n",
       "dtype: int64"
      ]
     },
     "execution_count": 15,
     "metadata": {},
     "output_type": "execute_result"
    }
   ],
   "source": [
    "df.isnull().sum().sort_values(ascending=False)\n"
   ]
  },
  {
   "cell_type": "code",
   "execution_count": 16,
   "id": "6d6c6942",
   "metadata": {},
   "outputs": [],
   "source": [
    "# finding the percentage\n",
    "missing_value_per = df.isnull().sum().sort_values(ascending=False)/len(df)\n"
   ]
  },
  {
   "cell_type": "code",
   "execution_count": 17,
   "id": "1e8d4820",
   "metadata": {},
   "outputs": [
    {
     "data": {
      "text/plain": [
       "Number                   61.290031\n",
       "Precipitation(in)        19.310789\n",
       "Wind_Chill(F)            16.505678\n",
       "Wind_Speed(mph)           5.550967\n",
       "Wind_Direction            2.592834\n",
       "Humidity(%)               2.568830\n",
       "Weather_Condition         2.482514\n",
       "Visibility(mi)            2.479350\n",
       "Temperature(F)            2.434646\n",
       "Pressure(in)              2.080593\n",
       "Weather_Timestamp         1.783125\n",
       "Airport_Code              0.335601\n",
       "Timezone                  0.128596\n",
       "Nautical_Twilight         0.100761\n",
       "Civil_Twilight            0.100761\n",
       "Sunrise_Sunset            0.100761\n",
       "Astronomical_Twilight     0.100761\n",
       "Zipcode                   0.046356\n",
       "City                      0.004815\n",
       "Street                    0.000070\n",
       "Country                   0.000000\n",
       "Junction                  0.000000\n",
       "Start_Time                0.000000\n",
       "End_Time                  0.000000\n",
       "Start_Lat                 0.000000\n",
       "Turning_Loop              0.000000\n",
       "Traffic_Signal            0.000000\n",
       "Traffic_Calming           0.000000\n",
       "Stop                      0.000000\n",
       "Station                   0.000000\n",
       "Roundabout                0.000000\n",
       "Railway                   0.000000\n",
       "No_Exit                   0.000000\n",
       "Crossing                  0.000000\n",
       "Give_Way                  0.000000\n",
       "Bump                      0.000000\n",
       "Amenity                   0.000000\n",
       "Start_Lng                 0.000000\n",
       "End_Lat                   0.000000\n",
       "End_Lng                   0.000000\n",
       "Distance(mi)              0.000000\n",
       "Description               0.000000\n",
       "Severity                  0.000000\n",
       "Side                      0.000000\n",
       "County                    0.000000\n",
       "State                     0.000000\n",
       "ID                        0.000000\n",
       "dtype: float64"
      ]
     },
     "execution_count": 17,
     "metadata": {},
     "output_type": "execute_result"
    }
   ],
   "source": [
    "missing_value_per*100"
   ]
  },
  {
   "cell_type": "code",
   "execution_count": 18,
   "id": "45217197",
   "metadata": {},
   "outputs": [
    {
     "data": {
      "text/plain": [
       "<AxesSubplot:>"
      ]
     },
     "execution_count": 18,
     "metadata": {},
     "output_type": "execute_result"
    },
    {
     "data": {
      "image/png": "[encoded data removed]",
      "text/plain": [
       "<Figure size 864x648 with 1 Axes>"
      ]
     },
     "metadata": {
      "needs_background": "light"
     },
     "output_type": "display_data"
    }
   ],
   "source": [
    "# viz\n",
    "# missing values graph\n",
    "missing_value_per.plot(kind = 'bar',figsize = (12,9))"
   ]
  },
  {
   "cell_type": "code",
   "execution_count": 19,
   "id": "e298c122",
   "metadata": {},
   "outputs": [
    {
     "data": {
      "text/plain": [
       "Number                    True\n",
       "Precipitation(in)         True\n",
       "Wind_Chill(F)             True\n",
       "Wind_Speed(mph)           True\n",
       "Wind_Direction            True\n",
       "Humidity(%)               True\n",
       "Weather_Condition         True\n",
       "Visibility(mi)            True\n",
       "Temperature(F)            True\n",
       "Pressure(in)              True\n",
       "Weather_Timestamp         True\n",
       "Airport_Code              True\n",
       "Timezone                  True\n",
       "Nautical_Twilight         True\n",
       "Civil_Twilight            True\n",
       "Sunrise_Sunset            True\n",
       "Astronomical_Twilight     True\n",
       "Zipcode                   True\n",
       "City                      True\n",
       "Street                    True\n",
       "Country                  False\n",
       "Junction                 False\n",
       "Start_Time               False\n",
       "End_Time                 False\n",
       "Start_Lat                False\n",
       "Turning_Loop             False\n",
       "Traffic_Signal           False\n",
       "Traffic_Calming          False\n",
       "Stop                     False\n",
       "Station                  False\n",
       "Roundabout               False\n",
       "Railway                  False\n",
       "No_Exit                  False\n",
       "Crossing                 False\n",
       "Give_Way                 False\n",
       "Bump                     False\n",
       "Amenity                  False\n",
       "Start_Lng                False\n",
       "End_Lat                  False\n",
       "End_Lng                  False\n",
       "Distance(mi)             False\n",
       "Description              False\n",
       "Severity                 False\n",
       "Side                     False\n",
       "County                   False\n",
       "State                    False\n",
       "ID                       False\n",
       "dtype: bool"
      ]
     },
     "execution_count": 19,
     "metadata": {},
     "output_type": "execute_result"
    }
   ],
   "source": [
    "# Analyse a graph and try to plot a graph for non missing values col.\n",
    "\n",
    "missing_value_per>0"
   ]
  },
  {
   "cell_type": "code",
   "execution_count": 20,
   "id": "c88ae559",
   "metadata": {},
   "outputs": [
    {
     "data": {
      "text/plain": [
       "Number                   6.129003e-01\n",
       "Precipitation(in)        1.931079e-01\n",
       "Wind_Chill(F)            1.650568e-01\n",
       "Wind_Speed(mph)          5.550967e-02\n",
       "Wind_Direction           2.592834e-02\n",
       "Humidity(%)              2.568830e-02\n",
       "Weather_Condition        2.482514e-02\n",
       "Visibility(mi)           2.479350e-02\n",
       "Temperature(F)           2.434646e-02\n",
       "Pressure(in)             2.080593e-02\n",
       "Weather_Timestamp        1.783125e-02\n",
       "Airport_Code             3.356011e-03\n",
       "Timezone                 1.285961e-03\n",
       "Nautical_Twilight        1.007612e-03\n",
       "Civil_Twilight           1.007612e-03\n",
       "Sunrise_Sunset           1.007612e-03\n",
       "Astronomical_Twilight    1.007612e-03\n",
       "Zipcode                  4.635647e-04\n",
       "City                     4.814887e-05\n",
       "Street                   7.029032e-07\n",
       "dtype: float64"
      ]
     },
     "execution_count": 20,
     "metadata": {},
     "output_type": "execute_result"
    }
   ],
   "source": [
    "missing_value_per[missing_value_per>0]"
   ]
  },
  {
   "cell_type": "code",
   "execution_count": 21,
   "id": "806441d1",
   "metadata": {},
   "outputs": [
    {
     "data": {
      "text/plain": [
       "<AxesSubplot:>"
      ]
     },
     "execution_count": 21,
     "metadata": {},
     "output_type": "execute_result"
    },
    {
     "data": {
      "image/png": "[encoded data removed]",
      "text/plain": [
       "<Figure size 720x360 with 1 Axes>"
      ]
     },
     "metadata": {
      "needs_background": "light"
     },
     "output_type": "display_data"
    }
   ],
   "source": [
    "missing_value_per[missing_value_per>0].plot(kind='bar',figsize=(10,5))"
   ]
  },
  {
   "cell_type": "markdown",
   "id": "bbc9a058",
   "metadata": {},
   "source": [
    "# Remove the col which have more than 50% missing values"
   ]
  },
  {
   "cell_type": "code",
   "execution_count": 22,
   "id": "9e109e97",
   "metadata": {},
   "outputs": [
    {
     "data": {
      "text/plain": [
       "Number    0.6129\n",
       "dtype: float64"
      ]
     },
     "execution_count": 22,
     "metadata": {},
     "output_type": "execute_result"
    }
   ],
   "source": [
    "missing_value_per[missing_value_per>0.5]"
   ]
  },
  {
   "cell_type": "code",
   "execution_count": 23,
   "id": "1f51c4bb",
   "metadata": {},
   "outputs": [],
   "source": [
    "newdf = df.drop(['Number'],axis = 1)"
   ]
  },
  {
   "cell_type": "code",
   "execution_count": 24,
   "id": "f7095445",
   "metadata": {},
   "outputs": [
    {
     "data": {
      "text/html": [
       "<div>\n",
       "<style scoped>\n",
       "    .dataframe tbody tr th:only-of-type {\n",
       "        vertical-align: middle;\n",
       "    }\n",
       "\n",
       "    .dataframe tbody tr th {\n",
       "        vertical-align: top;\n",
       "    }\n",
       "\n",
       "    .dataframe thead th {\n",
       "        text-align: right;\n",
       "    }\n",
       "</style>\n",
       "<table border=\"1\" class=\"dataframe\">\n",
       "  <thead>\n",
       "    <tr style=\"text-align: right;\">\n",
       "      <th></th>\n",
       "      <th>ID</th>\n",
       "      <th>Severity</th>\n",
       "      <th>Start_Time</th>\n",
       "      <th>End_Time</th>\n",
       "      <th>Start_Lat</th>\n",
       "      <th>Start_Lng</th>\n",
       "      <th>End_Lat</th>\n",
       "      <th>End_Lng</th>\n",
       "      <th>Distance(mi)</th>\n",
       "      <th>Description</th>\n",
       "      <th>...</th>\n",
       "      <th>Roundabout</th>\n",
       "      <th>Station</th>\n",
       "      <th>Stop</th>\n",
       "      <th>Traffic_Calming</th>\n",
       "      <th>Traffic_Signal</th>\n",
       "      <th>Turning_Loop</th>\n",
       "      <th>Sunrise_Sunset</th>\n",
       "      <th>Civil_Twilight</th>\n",
       "      <th>Nautical_Twilight</th>\n",
       "      <th>Astronomical_Twilight</th>\n",
       "    </tr>\n",
       "  </thead>\n",
       "  <tbody>\n",
       "    <tr>\n",
       "      <th>0</th>\n",
       "      <td>A-1</td>\n",
       "      <td>3</td>\n",
       "      <td>2016-02-08 00:37:08</td>\n",
       "      <td>2016-02-08 06:37:08</td>\n",
       "      <td>40.108910</td>\n",
       "      <td>-83.092860</td>\n",
       "      <td>40.112060</td>\n",
       "      <td>-83.031870</td>\n",
       "      <td>3.230</td>\n",
       "      <td>Between Sawmill Rd/Exit 20 and OH-315/Olentang...</td>\n",
       "      <td>...</td>\n",
       "      <td>False</td>\n",
       "      <td>False</td>\n",
       "      <td>False</td>\n",
       "      <td>False</td>\n",
       "      <td>False</td>\n",
       "      <td>False</td>\n",
       "      <td>Night</td>\n",
       "      <td>Night</td>\n",
       "      <td>Night</td>\n",
       "      <td>Night</td>\n",
       "    </tr>\n",
       "    <tr>\n",
       "      <th>1</th>\n",
       "      <td>A-2</td>\n",
       "      <td>2</td>\n",
       "      <td>2016-02-08 05:56:20</td>\n",
       "      <td>2016-02-08 11:56:20</td>\n",
       "      <td>39.865420</td>\n",
       "      <td>-84.062800</td>\n",
       "      <td>39.865010</td>\n",
       "      <td>-84.048730</td>\n",
       "      <td>0.747</td>\n",
       "      <td>At OH-4/OH-235/Exit 41 - Accident.</td>\n",
       "      <td>...</td>\n",
       "      <td>False</td>\n",
       "      <td>False</td>\n",
       "      <td>False</td>\n",
       "      <td>False</td>\n",
       "      <td>False</td>\n",
       "      <td>False</td>\n",
       "      <td>Night</td>\n",
       "      <td>Night</td>\n",
       "      <td>Night</td>\n",
       "      <td>Night</td>\n",
       "    </tr>\n",
       "    <tr>\n",
       "      <th>2</th>\n",
       "      <td>A-3</td>\n",
       "      <td>2</td>\n",
       "      <td>2016-02-08 06:15:39</td>\n",
       "      <td>2016-02-08 12:15:39</td>\n",
       "      <td>39.102660</td>\n",
       "      <td>-84.524680</td>\n",
       "      <td>39.102090</td>\n",
       "      <td>-84.523960</td>\n",
       "      <td>0.055</td>\n",
       "      <td>At I-71/US-50/Exit 1 - Accident.</td>\n",
       "      <td>...</td>\n",
       "      <td>False</td>\n",
       "      <td>False</td>\n",
       "      <td>False</td>\n",
       "      <td>False</td>\n",
       "      <td>False</td>\n",
       "      <td>False</td>\n",
       "      <td>Night</td>\n",
       "      <td>Night</td>\n",
       "      <td>Night</td>\n",
       "      <td>Day</td>\n",
       "    </tr>\n",
       "    <tr>\n",
       "      <th>3</th>\n",
       "      <td>A-4</td>\n",
       "      <td>2</td>\n",
       "      <td>2016-02-08 06:51:45</td>\n",
       "      <td>2016-02-08 12:51:45</td>\n",
       "      <td>41.062130</td>\n",
       "      <td>-81.537840</td>\n",
       "      <td>41.062170</td>\n",
       "      <td>-81.535470</td>\n",
       "      <td>0.123</td>\n",
       "      <td>At Dart Ave/Exit 21 - Accident.</td>\n",
       "      <td>...</td>\n",
       "      <td>False</td>\n",
       "      <td>False</td>\n",
       "      <td>False</td>\n",
       "      <td>False</td>\n",
       "      <td>False</td>\n",
       "      <td>False</td>\n",
       "      <td>Night</td>\n",
       "      <td>Night</td>\n",
       "      <td>Day</td>\n",
       "      <td>Day</td>\n",
       "    </tr>\n",
       "    <tr>\n",
       "      <th>4</th>\n",
       "      <td>A-5</td>\n",
       "      <td>3</td>\n",
       "      <td>2016-02-08 07:53:43</td>\n",
       "      <td>2016-02-08 13:53:43</td>\n",
       "      <td>39.172393</td>\n",
       "      <td>-84.492792</td>\n",
       "      <td>39.170476</td>\n",
       "      <td>-84.501798</td>\n",
       "      <td>0.500</td>\n",
       "      <td>At Mitchell Ave/Exit 6 - Accident.</td>\n",
       "      <td>...</td>\n",
       "      <td>False</td>\n",
       "      <td>False</td>\n",
       "      <td>False</td>\n",
       "      <td>False</td>\n",
       "      <td>False</td>\n",
       "      <td>False</td>\n",
       "      <td>Day</td>\n",
       "      <td>Day</td>\n",
       "      <td>Day</td>\n",
       "      <td>Day</td>\n",
       "    </tr>\n",
       "  </tbody>\n",
       "</table>\n",
       "<p>5 rows × 46 columns</p>\n",
       "</div>"
      ],
      "text/plain": [
       "    ID  Severity           Start_Time             End_Time  Start_Lat  \\\n",
       "0  A-1         3  2016-02-08 00:37:08  2016-02-08 06:37:08  40.108910   \n",
       "1  A-2         2  2016-02-08 05:56:20  2016-02-08 11:56:20  39.865420   \n",
       "2  A-3         2  2016-02-08 06:15:39  2016-02-08 12:15:39  39.102660   \n",
       "3  A-4         2  2016-02-08 06:51:45  2016-02-08 12:51:45  41.062130   \n",
       "4  A-5         3  2016-02-08 07:53:43  2016-02-08 13:53:43  39.172393   \n",
       "\n",
       "   Start_Lng    End_Lat    End_Lng  Distance(mi)  \\\n",
       "0 -83.092860  40.112060 -83.031870         3.230   \n",
       "1 -84.062800  39.865010 -84.048730         0.747   \n",
       "2 -84.524680  39.102090 -84.523960         0.055   \n",
       "3 -81.537840  41.062170 -81.535470         0.123   \n",
       "4 -84.492792  39.170476 -84.501798         0.500   \n",
       "\n",
       "                                         Description  ... Roundabout Station  \\\n",
       "0  Between Sawmill Rd/Exit 20 and OH-315/Olentang...  ...      False   False   \n",
       "1                 At OH-4/OH-235/Exit 41 - Accident.  ...      False   False   \n",
       "2                   At I-71/US-50/Exit 1 - Accident.  ...      False   False   \n",
       "3                    At Dart Ave/Exit 21 - Accident.  ...      False   False   \n",
       "4                 At Mitchell Ave/Exit 6 - Accident.  ...      False   False   \n",
       "\n",
       "    Stop Traffic_Calming Traffic_Signal Turning_Loop Sunrise_Sunset  \\\n",
       "0  False           False          False        False          Night   \n",
       "1  False           False          False        False          Night   \n",
       "2  False           False          False        False          Night   \n",
       "3  False           False          False        False          Night   \n",
       "4  False           False          False        False            Day   \n",
       "\n",
       "  Civil_Twilight Nautical_Twilight Astronomical_Twilight  \n",
       "0          Night             Night                 Night  \n",
       "1          Night             Night                 Night  \n",
       "2          Night             Night                   Day  \n",
       "3          Night               Day                   Day  \n",
       "4            Day               Day                   Day  \n",
       "\n",
       "[5 rows x 46 columns]"
      ]
     },
     "execution_count": 24,
     "metadata": {},
     "output_type": "execute_result"
    }
   ],
   "source": [
    "newdf.head()"
   ]
  },
  {
   "cell_type": "code",
   "execution_count": 25,
   "id": "53ee90c0",
   "metadata": {},
   "outputs": [
    {
     "data": {
      "text/plain": [
       "(2845342, 46)"
      ]
     },
     "execution_count": 25,
     "metadata": {},
     "output_type": "execute_result"
    }
   ],
   "source": [
    "newdf.shape"
   ]
  },
  {
   "cell_type": "code",
   "execution_count": 26,
   "id": "5c3efb6e",
   "metadata": {},
   "outputs": [
    {
     "data": {
      "text/plain": [
       "(2845342, 47)"
      ]
     },
     "execution_count": 26,
     "metadata": {},
     "output_type": "execute_result"
    }
   ],
   "source": [
    "df.shape"
   ]
  },
  {
   "cell_type": "markdown",
   "id": "49707843",
   "metadata": {},
   "source": [
    "# EDA & Vizualizing the data\n",
    "\n",
    "col need to be analyse\n",
    "\n",
    "### 1. City\n",
    "### 2. Start time\n",
    "### 3. Start_lng\n",
    "### 4. Temperature"
   ]
  },
  {
   "cell_type": "code",
   "execution_count": 27,
   "id": "4a0dbbaf",
   "metadata": {},
   "outputs": [
    {
     "data": {
      "text/plain": [
       "Index(['ID', 'Severity', 'Start_Time', 'End_Time', 'Start_Lat', 'Start_Lng',\n",
       "       'End_Lat', 'End_Lng', 'Distance(mi)', 'Description', 'Street', 'Side',\n",
       "       'City', 'County', 'State', 'Zipcode', 'Country', 'Timezone',\n",
       "       'Airport_Code', 'Weather_Timestamp', 'Temperature(F)', 'Wind_Chill(F)',\n",
       "       'Humidity(%)', 'Pressure(in)', 'Visibility(mi)', 'Wind_Direction',\n",
       "       'Wind_Speed(mph)', 'Precipitation(in)', 'Weather_Condition', 'Amenity',\n",
       "       'Bump', 'Crossing', 'Give_Way', 'Junction', 'No_Exit', 'Railway',\n",
       "       'Roundabout', 'Station', 'Stop', 'Traffic_Calming', 'Traffic_Signal',\n",
       "       'Turning_Loop', 'Sunrise_Sunset', 'Civil_Twilight', 'Nautical_Twilight',\n",
       "       'Astronomical_Twilight'],\n",
       "      dtype='object')"
      ]
     },
     "execution_count": 27,
     "metadata": {},
     "output_type": "execute_result"
    }
   ],
   "source": [
    "newdf.columns"
   ]
  },
  {
   "cell_type": "code",
   "execution_count": 28,
   "id": "a6c5c195",
   "metadata": {},
   "outputs": [],
   "source": [
    "#1 . # 1 Are there more accident in warmer or colder area?\n",
    "# 2. Which 5 state have highest  number of accidents? how about per capita.\n",
    "# 3. Does New york show up in the data? If yes, why is the count lower if  this\n",
    "# is most populated city.\n",
    "# 4. Among the top 100 ,cities in number of accidents ,which state do they \n",
    "# belong to most frequently.\n",
    "\n",
    "# 5. What time of the day are accidents most frequent in?\n",
    "# 6. Which days of the week have the most accidents?\n",
    "# 7. Which month have the most accidents?\n",
    "# 8. What is the trend of accidents year over year?(decrease or increase)\n"
   ]
  },
  {
   "cell_type": "code",
   "execution_count": 29,
   "id": "a04ebada",
   "metadata": {},
   "outputs": [
    {
     "data": {
      "text/plain": [
       "11681"
      ]
     },
     "execution_count": 29,
     "metadata": {},
     "output_type": "execute_result"
    }
   ],
   "source": [
    "newdf['City'].nunique()"
   ]
  },
  {
   "cell_type": "code",
   "execution_count": 30,
   "id": "6476e607",
   "metadata": {},
   "outputs": [],
   "source": [
    "top_5_accident_city = newdf['City'].value_counts()"
   ]
  },
  {
   "cell_type": "code",
   "execution_count": 31,
   "id": "7c9aa515",
   "metadata": {},
   "outputs": [
    {
     "data": {
      "text/plain": [
       "Miami          106966\n",
       "Los Angeles     68956\n",
       "Orlando         54691\n",
       "Dallas          41979\n",
       "Houston         39448\n",
       "Charlotte       33152\n",
       "Sacramento      32559\n",
       "San Diego       26627\n",
       "Raleigh         22840\n",
       "Minneapolis     22768\n",
       "Name: City, dtype: int64"
      ]
     },
     "execution_count": 31,
     "metadata": {},
     "output_type": "execute_result"
    }
   ],
   "source": [
    "top_5_accident_city[:10]"
   ]
  },
  {
   "cell_type": "code",
   "execution_count": 32,
   "id": "73dba011",
   "metadata": {},
   "outputs": [
    {
     "data": {
      "text/plain": [
       "<AxesSubplot:>"
      ]
     },
     "execution_count": 32,
     "metadata": {},
     "output_type": "execute_result"
    },
    {
     "data": {
      "image/png": "[encoded data removed]",
      "text/plain": [
       "<Figure size 432x288 with 1 Axes>"
      ]
     },
     "metadata": {
      "needs_background": "light"
     },
     "output_type": "display_data"
    }
   ],
   "source": [
    "# graph for top 10 accidents city\n",
    "top_5_accident_city[:10].plot(kind = 'bar')\n"
   ]
  },
  {
   "cell_type": "code",
   "execution_count": 33,
   "id": "30ee7235",
   "metadata": {},
   "outputs": [
    {
     "data": {
      "text/plain": [
       "31580      New York\n",
       "31625      New York\n",
       "31710      New York\n",
       "31901      New York\n",
       "32073      New York\n",
       "             ...   \n",
       "2843385    New York\n",
       "2843916    New York\n",
       "2844444    New York\n",
       "2844464    New York\n",
       "2844953    New York\n",
       "Name: City, Length: 7068, dtype: object"
      ]
     },
     "execution_count": 33,
     "metadata": {},
     "output_type": "execute_result"
    }
   ],
   "source": [
    "newdf.loc[newdf['City']=='New York']['City']"
   ]
  },
  {
   "cell_type": "code",
   "execution_count": 34,
   "id": "97330a9e",
   "metadata": {},
   "outputs": [
    {
     "name": "stderr",
     "output_type": "stream",
     "text": [
      "C:\\Users\\Satyam\\Anaconda3\\lib\\site-packages\\seaborn\\distributions.py:2619: FutureWarning: `distplot` is a deprecated function and will be removed in a future version. Please adapt your code to use either `displot` (a figure-level function with similar flexibility) or `histplot` (an axes-level function for histograms).\n",
      "  warnings.warn(msg, FutureWarning)\n"
     ]
    },
    {
     "data": {
      "text/plain": [
       "<AxesSubplot:xlabel='City', ylabel='Density'>"
      ]
     },
     "execution_count": 34,
     "metadata": {},
     "output_type": "execute_result"
    },
    {
     "data": {
      "image/png": "[encoded data removed]",
      "text/plain": [
       "<Figure size 432x288 with 1 Axes>"
      ]
     },
     "metadata": {
      "needs_background": "light"
     },
     "output_type": "display_data"
    }
   ],
   "source": [
    "# Among the accident city tell me the city which occurs frequently.\n",
    "sns.distplot(top_5_accident_city)"
   ]
  },
  {
   "cell_type": "code",
   "execution_count": 35,
   "id": "579d650a",
   "metadata": {},
   "outputs": [],
   "source": [
    "high_rate_acc= df['City'].value_counts()>=1000"
   ]
  },
  {
   "cell_type": "code",
   "execution_count": 36,
   "id": "7684c335",
   "metadata": {},
   "outputs": [
    {
     "data": {
      "text/plain": [
       "Miami                            True\n",
       "Los Angeles                      True\n",
       "Orlando                          True\n",
       "Dallas                           True\n",
       "Houston                          True\n",
       "                                ...  \n",
       "Ridgedale                       False\n",
       "Sekiu                           False\n",
       "Wooldridge                      False\n",
       "Bullock                         False\n",
       "American Fork-Pleasant Grove    False\n",
       "Name: City, Length: 11681, dtype: bool"
      ]
     },
     "execution_count": 36,
     "metadata": {},
     "output_type": "execute_result"
    }
   ],
   "source": [
    "high_rate_acc"
   ]
  },
  {
   "cell_type": "code",
   "execution_count": 37,
   "id": "6cadac6a",
   "metadata": {},
   "outputs": [],
   "source": [
    "high_rate_accident = top_5_accident_city[top_5_accident_city>=1000]"
   ]
  },
  {
   "cell_type": "code",
   "execution_count": 38,
   "id": "fe323684",
   "metadata": {},
   "outputs": [
    {
     "data": {
      "text/plain": [
       "Miami          106966\n",
       "Los Angeles     68956\n",
       "Orlando         54691\n",
       "Dallas          41979\n",
       "Houston         39448\n",
       "                ...  \n",
       "Tualatin         1001\n",
       "Utica            1001\n",
       "Los Banos        1001\n",
       "Mankato          1000\n",
       "Chiloquin        1000\n",
       "Name: City, Length: 496, dtype: int64"
      ]
     },
     "execution_count": 38,
     "metadata": {},
     "output_type": "execute_result"
    }
   ],
   "source": [
    "high_rate_accident"
   ]
  },
  {
   "cell_type": "code",
   "execution_count": 39,
   "id": "1a6c8232",
   "metadata": {},
   "outputs": [
    {
     "name": "stderr",
     "output_type": "stream",
     "text": [
      "C:\\Users\\Satyam\\Anaconda3\\lib\\site-packages\\seaborn\\distributions.py:2619: FutureWarning: `distplot` is a deprecated function and will be removed in a future version. Please adapt your code to use either `displot` (a figure-level function with similar flexibility) or `histplot` (an axes-level function for histograms).\n",
      "  warnings.warn(msg, FutureWarning)\n"
     ]
    },
    {
     "data": {
      "text/plain": [
       "<AxesSubplot:xlabel='City', ylabel='Density'>"
      ]
     },
     "execution_count": 39,
     "metadata": {},
     "output_type": "execute_result"
    },
    {
     "data": {
      "image/png": "[encoded data removed]",
      "text/plain": [
       "<Figure size 432x288 with 1 Axes>"
      ]
     },
     "metadata": {
      "needs_background": "light"
     },
     "output_type": "display_data"
    }
   ],
   "source": [
    "sns.distplot(high_rate_accident)"
   ]
  },
  {
   "cell_type": "code",
   "execution_count": 40,
   "id": "b3baffe9",
   "metadata": {},
   "outputs": [
    {
     "data": {
      "text/plain": [
       "<AxesSubplot:xlabel='City', ylabel='Count'>"
      ]
     },
     "execution_count": 40,
     "metadata": {},
     "output_type": "execute_result"
    },
    {
     "data": {
      "image/png": "[encoded data removed]",
      "text/plain": [
       "<Figure size 432x288 with 1 Axes>"
      ]
     },
     "metadata": {
      "needs_background": "light"
     },
     "output_type": "display_data"
    }
   ],
   "source": [
    "sns.histplot(high_rate_accident,log_scale=True)"
   ]
  },
  {
   "cell_type": "code",
   "execution_count": 41,
   "id": "fc802ca8",
   "metadata": {},
   "outputs": [],
   "source": [
    "low_rate_accident = top_5_accident_city[top_5_accident_city<1000]"
   ]
  },
  {
   "cell_type": "code",
   "execution_count": 42,
   "id": "2a8950e0",
   "metadata": {},
   "outputs": [
    {
     "data": {
      "text/plain": [
       "(11185,)"
      ]
     },
     "execution_count": 42,
     "metadata": {},
     "output_type": "execute_result"
    }
   ],
   "source": [
    "low_rate_accident.shape"
   ]
  },
  {
   "cell_type": "code",
   "execution_count": 43,
   "id": "50738aaa",
   "metadata": {},
   "outputs": [
    {
     "name": "stderr",
     "output_type": "stream",
     "text": [
      "C:\\Users\\Satyam\\Anaconda3\\lib\\site-packages\\seaborn\\distributions.py:2619: FutureWarning: `distplot` is a deprecated function and will be removed in a future version. Please adapt your code to use either `displot` (a figure-level function with similar flexibility) or `histplot` (an axes-level function for histograms).\n",
      "  warnings.warn(msg, FutureWarning)\n"
     ]
    },
    {
     "data": {
      "text/plain": [
       "<AxesSubplot:xlabel='City', ylabel='Density'>"
      ]
     },
     "execution_count": 43,
     "metadata": {},
     "output_type": "execute_result"
    },
    {
     "data": {
      "image/png": "[encoded data removed]",
      "text/plain": [
       "<Figure size 432x288 with 1 Axes>"
      ]
     },
     "metadata": {
      "needs_background": "light"
     },
     "output_type": "display_data"
    }
   ],
   "source": [
    "sns.distplot(low_rate_accident)"
   ]
  },
  {
   "cell_type": "code",
   "execution_count": 47,
   "id": "8f3a852b",
   "metadata": {},
   "outputs": [
    {
     "data": {
      "text/plain": [
       "<AxesSubplot:xlabel='City', ylabel='Count'>"
      ]
     },
     "execution_count": 47,
     "metadata": {},
     "output_type": "execute_result"
    },
    {
     "data": {
      "image/png": "[encoded data removed]",
      "text/plain": [
       "<Figure size 432x288 with 1 Axes>"
      ]
     },
     "metadata": {
      "needs_background": "light"
     },
     "output_type": "display_data"
    }
   ],
   "source": [
    "sns.histplot(low_rate_accident,log_scale=True)"
   ]
  },
  {
   "cell_type": "code",
   "execution_count": null,
   "id": "8eaa1b54",
   "metadata": {},
   "outputs": [],
   "source": [
    "# 5. What time of the day are accidents most frequent in?\n",
    "# 6. Which days of the week have the most accidents?\n",
    "# 7. Which month have the most accidents?\n",
    "# 8. What is the trend of accidents year over year?(decrease or increase)"
   ]
  },
  {
   "cell_type": "code",
   "execution_count": 48,
   "id": "9394b4b1",
   "metadata": {},
   "outputs": [
    {
     "data": {
      "text/plain": [
       "Index(['ID', 'Severity', 'Start_Time', 'End_Time', 'Start_Lat', 'Start_Lng',\n",
       "       'End_Lat', 'End_Lng', 'Distance(mi)', 'Description', 'Number', 'Street',\n",
       "       'Side', 'City', 'County', 'State', 'Zipcode', 'Country', 'Timezone',\n",
       "       'Airport_Code', 'Weather_Timestamp', 'Temperature(F)', 'Wind_Chill(F)',\n",
       "       'Humidity(%)', 'Pressure(in)', 'Visibility(mi)', 'Wind_Direction',\n",
       "       'Wind_Speed(mph)', 'Precipitation(in)', 'Weather_Condition', 'Amenity',\n",
       "       'Bump', 'Crossing', 'Give_Way', 'Junction', 'No_Exit', 'Railway',\n",
       "       'Roundabout', 'Station', 'Stop', 'Traffic_Calming', 'Traffic_Signal',\n",
       "       'Turning_Loop', 'Sunrise_Sunset', 'Civil_Twilight', 'Nautical_Twilight',\n",
       "       'Astronomical_Twilight'],\n",
       "      dtype='object')"
      ]
     },
     "execution_count": 48,
     "metadata": {},
     "output_type": "execute_result"
    }
   ],
   "source": [
    "df.columns"
   ]
  },
  {
   "cell_type": "code",
   "execution_count": 49,
   "id": "b6aaeff4",
   "metadata": {},
   "outputs": [
    {
     "data": {
      "text/plain": [
       "0          2016-02-08 00:37:08\n",
       "1          2016-02-08 05:56:20\n",
       "2          2016-02-08 06:15:39\n",
       "3          2016-02-08 06:51:45\n",
       "4          2016-02-08 07:53:43\n",
       "                  ...         \n",
       "2845337    2019-08-23 18:03:25\n",
       "2845338    2019-08-23 19:11:30\n",
       "2845339    2019-08-23 19:00:21\n",
       "2845340    2019-08-23 19:00:21\n",
       "2845341    2019-08-23 18:52:06\n",
       "Name: Start_Time, Length: 2845342, dtype: object"
      ]
     },
     "execution_count": 49,
     "metadata": {},
     "output_type": "execute_result"
    }
   ],
   "source": [
    "df.Start_Time"
   ]
  },
  {
   "cell_type": "code",
   "execution_count": 50,
   "id": "2b6c7da1",
   "metadata": {},
   "outputs": [
    {
     "data": {
      "text/plain": [
       "0          US/Eastern\n",
       "1          US/Eastern\n",
       "2          US/Eastern\n",
       "3          US/Eastern\n",
       "4          US/Eastern\n",
       "              ...    \n",
       "2845337    US/Pacific\n",
       "2845338    US/Pacific\n",
       "2845339    US/Pacific\n",
       "2845340    US/Pacific\n",
       "2845341    US/Pacific\n",
       "Name: Timezone, Length: 2845342, dtype: object"
      ]
     },
     "execution_count": 50,
     "metadata": {},
     "output_type": "execute_result"
    }
   ],
   "source": [
    "df.Timezone"
   ]
  },
  {
   "cell_type": "code",
   "execution_count": 52,
   "id": "29bef21c",
   "metadata": {},
   "outputs": [],
   "source": [
    "start_time = pd.to_datetime(df.Start_Time)"
   ]
  },
  {
   "cell_type": "code",
   "execution_count": 57,
   "id": "01016e81",
   "metadata": {},
   "outputs": [
    {
     "data": {
      "text/plain": [
       "0"
      ]
     },
     "execution_count": 57,
     "metadata": {},
     "output_type": "execute_result"
    }
   ],
   "source": [
    "start_time[0].hour"
   ]
  },
  {
   "cell_type": "code",
   "execution_count": 58,
   "id": "33b60ed1",
   "metadata": {},
   "outputs": [
    {
     "data": {
      "text/plain": [
       "0           0\n",
       "1           5\n",
       "2           6\n",
       "3           6\n",
       "4           7\n",
       "           ..\n",
       "2845337    18\n",
       "2845338    19\n",
       "2845339    19\n",
       "2845340    19\n",
       "2845341    18\n",
       "Name: Start_Time, Length: 2845342, dtype: int64"
      ]
     },
     "execution_count": 58,
     "metadata": {},
     "output_type": "execute_result"
    }
   ],
   "source": [
    "start_time.dt.hour"
   ]
  },
  {
   "cell_type": "code",
   "execution_count": 61,
   "id": "3c2eff94",
   "metadata": {},
   "outputs": [
    {
     "name": "stderr",
     "output_type": "stream",
     "text": [
      "C:\\Users\\Satyam\\Anaconda3\\lib\\site-packages\\seaborn\\distributions.py:2619: FutureWarning: `distplot` is a deprecated function and will be removed in a future version. Please adapt your code to use either `displot` (a figure-level function with similar flexibility) or `histplot` (an axes-level function for histograms).\n",
      "  warnings.warn(msg, FutureWarning)\n"
     ]
    },
    {
     "data": {
      "text/plain": [
       "<AxesSubplot:xlabel='Start_Time'>"
      ]
     },
     "execution_count": 61,
     "metadata": {},
     "output_type": "execute_result"
    },
    {
     "data": {
      "image/png": "[encoded data removed]",
      "text/plain": [
       "<Figure size 432x288 with 1 Axes>"
      ]
     },
     "metadata": {
      "needs_background": "light"
     },
     "output_type": "display_data"
    }
   ],
   "source": [
    "sns.distplot(start_time.dt.hour,bins = 24,kde = False)"
   ]
  },
  {
   "cell_type": "code",
   "execution_count": null,
   "id": "312930a2",
   "metadata": {},
   "outputs": [],
   "source": []
  }
 ],
 "metadata": {
  "kernelspec": {
   "display_name": "Python 3 (ipykernel)",
   "language": "python",
   "name": "python3"
  },
  "language_info": {
   "codemirror_mode": {
    "name": "ipython",
    "version": 3
   },
   "file_extension": ".py",
   "mimetype": "text/x-python",
   "name": "python",
   "nbconvert_exporter": "python",
   "pygments_lexer": "ipython3",
   "version": "3.9.7"
  }
 },
 "nbformat": 4,
 "nbformat_minor": 5
}
